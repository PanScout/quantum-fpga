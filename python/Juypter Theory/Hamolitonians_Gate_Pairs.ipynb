{
 "cells": [
  {
   "cell_type": "code",
   "execution_count": 30,
   "metadata": {},
   "outputs": [
    {
     "data": {
      "text/markdown": [
       "## CZ (Control-Z) Gate"
      ],
      "text/plain": [
       "<IPython.core.display.Markdown object>"
      ]
     },
     "metadata": {},
     "output_type": "display_data"
    },
    {
     "data": {
      "text/markdown": [
       "### Unitary Matrix:"
      ],
      "text/plain": [
       "<IPython.core.display.Markdown object>"
      ]
     },
     "metadata": {},
     "output_type": "display_data"
    },
    {
     "data": {
      "image/png": "[encoded data removed]",
      "text/latex": [
       "$\\displaystyle \\left[\\begin{matrix}1 & 0 & 0 & 0\\\\0 & 1 & 0 & 0\\\\0 & 0 & 1 & 0\\\\0 & 0 & 0 & -1\\end{matrix}\\right]$"
      ],
      "text/plain": [
       "⎡1  0  0  0 ⎤\n",
       "⎢           ⎥\n",
       "⎢0  1  0  0 ⎥\n",
       "⎢           ⎥\n",
       "⎢0  0  1  0 ⎥\n",
       "⎢           ⎥\n",
       "⎣0  0  0  -1⎦"
      ]
     },
     "metadata": {},
     "output_type": "display_data"
    },
    {
     "data": {
      "text/markdown": [
       "### Hamiltonian Matrix:"
      ],
      "text/plain": [
       "<IPython.core.display.Markdown object>"
      ]
     },
     "metadata": {},
     "output_type": "display_data"
    },
    {
     "data": {
      "image/png": "[encoded data removed]",
      "text/latex": [
       "$\\displaystyle \\left[\\begin{matrix}0 & 0 & 0 & 0\\\\0 & 0 & 0 & 0\\\\0 & 0 & 0 & 0\\\\0 & 0 & 0 & -1\\end{matrix}\\right]$"
      ],
      "text/plain": [
       "⎡0  0  0  0 ⎤\n",
       "⎢           ⎥\n",
       "⎢0  0  0  0 ⎥\n",
       "⎢           ⎥\n",
       "⎢0  0  0  0 ⎥\n",
       "⎢           ⎥\n",
       "⎣0  0  0  -1⎦"
      ]
     },
     "metadata": {},
     "output_type": "display_data"
    },
    {
     "data": {
      "text/markdown": [
       "**Hermitian:** True"
      ],
      "text/plain": [
       "<IPython.core.display.Markdown object>"
      ]
     },
     "metadata": {},
     "output_type": "display_data"
    },
    {
     "data": {
      "text/markdown": [
       "### Eigenvalues:"
      ],
      "text/plain": [
       "<IPython.core.display.Markdown object>"
      ]
     },
     "metadata": {},
     "output_type": "display_data"
    },
    {
     "data": {
      "image/png": "[encoded data removed]",
      "text/latex": [
       "$\\displaystyle \\left\\{ -1 : 1, \\  0 : 3\\right\\}$"
      ],
      "text/plain": [
       "{-1: 1, 0: 3}"
      ]
     },
     "metadata": {},
     "output_type": "display_data"
    },
    {
     "data": {
      "text/markdown": [
       "---"
      ],
      "text/plain": [
       "<IPython.core.display.Markdown object>"
      ]
     },
     "metadata": {},
     "output_type": "display_data"
    },
    {
     "data": {
      "text/markdown": [
       "## CNOT (Control-X) Gate"
      ],
      "text/plain": [
       "<IPython.core.display.Markdown object>"
      ]
     },
     "metadata": {},
     "output_type": "display_data"
    },
    {
     "data": {
      "text/markdown": [
       "### Unitary Matrix:"
      ],
      "text/plain": [
       "<IPython.core.display.Markdown object>"
      ]
     },
     "metadata": {},
     "output_type": "display_data"
    },
    {
     "data": {
      "image/png": "[encoded data removed]",
      "text/latex": [
       "$\\displaystyle \\left[\\begin{matrix}1 & 0 & 0 & 0\\\\0 & 1 & 0 & 0\\\\0 & 0 & 0 & 1\\\\0 & 0 & 1 & 0\\end{matrix}\\right]$"
      ],
      "text/plain": [
       "⎡1  0  0  0⎤\n",
       "⎢          ⎥\n",
       "⎢0  1  0  0⎥\n",
       "⎢          ⎥\n",
       "⎢0  0  0  1⎥\n",
       "⎢          ⎥\n",
       "⎣0  0  1  0⎦"
      ]
     },
     "metadata": {},
     "output_type": "display_data"
    },
    {
     "data": {
      "text/markdown": [
       "### Hamiltonian Matrix:"
      ],
      "text/plain": [
       "<IPython.core.display.Markdown object>"
      ]
     },
     "metadata": {},
     "output_type": "display_data"
    },
    {
     "data": {
      "image/png": "[encoded data removed]",
      "text/latex": [
       "$\\displaystyle \\left[\\begin{matrix}0 & 0 & 0 & 0\\\\0 & 0 & 0 & 0\\\\0 & 0 & - \\frac{1}{2} & \\frac{1}{2}\\\\0 & 0 & \\frac{1}{2} & - \\frac{1}{2}\\end{matrix}\\right]$"
      ],
      "text/plain": [
       "⎡0  0   0     0  ⎤\n",
       "⎢                ⎥\n",
       "⎢0  0   0     0  ⎥\n",
       "⎢                ⎥\n",
       "⎢0  0  -1/2  1/2 ⎥\n",
       "⎢                ⎥\n",
       "⎣0  0  1/2   -1/2⎦"
      ]
     },
     "metadata": {},
     "output_type": "display_data"
    },
    {
     "data": {
      "text/markdown": [
       "**Hermitian:** True"
      ],
      "text/plain": [
       "<IPython.core.display.Markdown object>"
      ]
     },
     "metadata": {},
     "output_type": "display_data"
    },
    {
     "data": {
      "text/markdown": [
       "### Eigenvalues:"
      ],
      "text/plain": [
       "<IPython.core.display.Markdown object>"
      ]
     },
     "metadata": {},
     "output_type": "display_data"
    },
    {
     "data": {
      "image/png": "[encoded data removed]",
      "text/latex": [
       "$\\displaystyle \\left\\{ -1 : 1, \\  0 : 3\\right\\}$"
      ],
      "text/plain": [
       "{-1: 1, 0: 3}"
      ]
     },
     "metadata": {},
     "output_type": "display_data"
    },
    {
     "data": {
      "text/markdown": [
       "---"
      ],
      "text/plain": [
       "<IPython.core.display.Markdown object>"
      ]
     },
     "metadata": {},
     "output_type": "display_data"
    },
    {
     "data": {
      "text/markdown": [
       "## SWAP Gate"
      ],
      "text/plain": [
       "<IPython.core.display.Markdown object>"
      ]
     },
     "metadata": {},
     "output_type": "display_data"
    },
    {
     "data": {
      "text/markdown": [
       "### Unitary Matrix:"
      ],
      "text/plain": [
       "<IPython.core.display.Markdown object>"
      ]
     },
     "metadata": {},
     "output_type": "display_data"
    },
    {
     "data": {
      "image/png": "[encoded data removed]",
      "text/latex": [
       "$\\displaystyle \\left[\\begin{matrix}1 & 0 & 0 & 0\\\\0 & 0 & 1 & 0\\\\0 & 1 & 0 & 0\\\\0 & 0 & 0 & 1\\end{matrix}\\right]$"
      ],
      "text/plain": [
       "⎡1  0  0  0⎤\n",
       "⎢          ⎥\n",
       "⎢0  0  1  0⎥\n",
       "⎢          ⎥\n",
       "⎢0  1  0  0⎥\n",
       "⎢          ⎥\n",
       "⎣0  0  0  1⎦"
      ]
     },
     "metadata": {},
     "output_type": "display_data"
    },
    {
     "data": {
      "text/markdown": [
       "### Hamiltonian Matrix:"
      ],
      "text/plain": [
       "<IPython.core.display.Markdown object>"
      ]
     },
     "metadata": {},
     "output_type": "display_data"
    },
    {
     "data": {
      "image/png": "[encoded data removed]",
      "text/latex": [
       "$\\displaystyle \\left[\\begin{matrix}0 & 0 & 0 & 0\\\\0 & - \\frac{1}{2} & \\frac{1}{2} & 0\\\\0 & \\frac{1}{2} & - \\frac{1}{2} & 0\\\\0 & 0 & 0 & 0\\end{matrix}\\right]$"
      ],
      "text/plain": [
       "⎡0   0     0    0⎤\n",
       "⎢                ⎥\n",
       "⎢0  -1/2  1/2   0⎥\n",
       "⎢                ⎥\n",
       "⎢0  1/2   -1/2  0⎥\n",
       "⎢                ⎥\n",
       "⎣0   0     0    0⎦"
      ]
     },
     "metadata": {},
     "output_type": "display_data"
    },
    {
     "data": {
      "text/markdown": [
       "**Hermitian:** True"
      ],
      "text/plain": [
       "<IPython.core.display.Markdown object>"
      ]
     },
     "metadata": {},
     "output_type": "display_data"
    },
    {
     "data": {
      "text/markdown": [
       "### Eigenvalues:"
      ],
      "text/plain": [
       "<IPython.core.display.Markdown object>"
      ]
     },
     "metadata": {},
     "output_type": "display_data"
    },
    {
     "data": {
      "image/png": "[encoded data removed]",
      "text/latex": [
       "$\\displaystyle \\left\\{ -1 : 1, \\  0 : 3\\right\\}$"
      ],
      "text/plain": [
       "{-1: 1, 0: 3}"
      ]
     },
     "metadata": {},
     "output_type": "display_data"
    },
    {
     "data": {
      "text/markdown": [
       "---"
      ],
      "text/plain": [
       "<IPython.core.display.Markdown object>"
      ]
     },
     "metadata": {},
     "output_type": "display_data"
    },
    {
     "data": {
      "text/markdown": [
       "## Hadamard (H) Gate"
      ],
      "text/plain": [
       "<IPython.core.display.Markdown object>"
      ]
     },
     "metadata": {},
     "output_type": "display_data"
    },
    {
     "data": {
      "text/markdown": [
       "### Unitary Matrix:"
      ],
      "text/plain": [
       "<IPython.core.display.Markdown object>"
      ]
     },
     "metadata": {},
     "output_type": "display_data"
    },
    {
     "data": {
      "image/png": "[encoded data removed]",
      "text/latex": [
       "$\\displaystyle \\left[\\begin{matrix}\\frac{\\sqrt{2}}{2} & \\frac{\\sqrt{2}}{2}\\\\\\frac{\\sqrt{2}}{2} & - \\frac{\\sqrt{2}}{2}\\end{matrix}\\right]$"
      ],
      "text/plain": [
       "⎡√2   √2 ⎤\n",
       "⎢──   ── ⎥\n",
       "⎢2    2  ⎥\n",
       "⎢        ⎥\n",
       "⎢√2  -√2 ⎥\n",
       "⎢──  ────⎥\n",
       "⎣2    2  ⎦"
      ]
     },
     "metadata": {},
     "output_type": "display_data"
    },
    {
     "data": {
      "text/markdown": [
       "### Hamiltonian Matrix:"
      ],
      "text/plain": [
       "<IPython.core.display.Markdown object>"
      ]
     },
     "metadata": {},
     "output_type": "display_data"
    },
    {
     "data": {
      "image/png": "[encoded data removed]",
      "text/latex": [
       "$\\displaystyle \\left[\\begin{matrix}- \\frac{1}{2} + \\frac{\\sqrt{2}}{4} & \\frac{\\sqrt{2}}{4}\\\\\\frac{\\sqrt{2}}{4} & - \\frac{1}{2} - \\frac{\\sqrt{2}}{4}\\end{matrix}\\right]$"
      ],
      "text/plain": [
       "⎡  1   √2     √2   ⎤\n",
       "⎢- ─ + ──     ──   ⎥\n",
       "⎢  2   4      4    ⎥\n",
       "⎢                  ⎥\n",
       "⎢   √2       1   √2⎥\n",
       "⎢   ──     - ─ - ──⎥\n",
       "⎣   4        2   4 ⎦"
      ]
     },
     "metadata": {},
     "output_type": "display_data"
    },
    {
     "data": {
      "text/markdown": [
       "**Hermitian:** True"
      ],
      "text/plain": [
       "<IPython.core.display.Markdown object>"
      ]
     },
     "metadata": {},
     "output_type": "display_data"
    },
    {
     "data": {
      "text/markdown": [
       "### Eigenvalues:"
      ],
      "text/plain": [
       "<IPython.core.display.Markdown object>"
      ]
     },
     "metadata": {},
     "output_type": "display_data"
    },
    {
     "data": {
      "image/png": "[encoded data removed]",
      "text/latex": [
       "$\\displaystyle \\left\\{ -1 : 1, \\  0 : 1\\right\\}$"
      ],
      "text/plain": [
       "{-1: 1, 0: 1}"
      ]
     },
     "metadata": {},
     "output_type": "display_data"
    },
    {
     "data": {
      "text/markdown": [
       "---"
      ],
      "text/plain": [
       "<IPython.core.display.Markdown object>"
      ]
     },
     "metadata": {},
     "output_type": "display_data"
    },
    {
     "data": {
      "text/markdown": [
       "## Pauli-X Gate"
      ],
      "text/plain": [
       "<IPython.core.display.Markdown object>"
      ]
     },
     "metadata": {},
     "output_type": "display_data"
    },
    {
     "data": {
      "text/markdown": [
       "### Unitary Matrix:"
      ],
      "text/plain": [
       "<IPython.core.display.Markdown object>"
      ]
     },
     "metadata": {},
     "output_type": "display_data"
    },
    {
     "data": {
      "image/png": "[encoded data removed]",
      "text/latex": [
       "$\\displaystyle \\left[\\begin{matrix}0 & 1\\\\1 & 0\\end{matrix}\\right]$"
      ],
      "text/plain": [
       "⎡0  1⎤\n",
       "⎢    ⎥\n",
       "⎣1  0⎦"
      ]
     },
     "metadata": {},
     "output_type": "display_data"
    },
    {
     "data": {
      "text/markdown": [
       "### Hamiltonian Matrix:"
      ],
      "text/plain": [
       "<IPython.core.display.Markdown object>"
      ]
     },
     "metadata": {},
     "output_type": "display_data"
    },
    {
     "data": {
      "image/png": "[encoded data removed]",
      "text/latex": [
       "$\\displaystyle \\left[\\begin{matrix}- \\frac{1}{2} & \\frac{1}{2}\\\\\\frac{1}{2} & - \\frac{1}{2}\\end{matrix}\\right]$"
      ],
      "text/plain": [
       "⎡-1/2  1/2 ⎤\n",
       "⎢          ⎥\n",
       "⎣1/2   -1/2⎦"
      ]
     },
     "metadata": {},
     "output_type": "display_data"
    },
    {
     "data": {
      "text/markdown": [
       "**Hermitian:** True"
      ],
      "text/plain": [
       "<IPython.core.display.Markdown object>"
      ]
     },
     "metadata": {},
     "output_type": "display_data"
    },
    {
     "data": {
      "text/markdown": [
       "### Eigenvalues:"
      ],
      "text/plain": [
       "<IPython.core.display.Markdown object>"
      ]
     },
     "metadata": {},
     "output_type": "display_data"
    },
    {
     "data": {
      "image/png": "[encoded data removed]",
      "text/latex": [
       "$\\displaystyle \\left\\{ -1 : 1, \\  0 : 1\\right\\}$"
      ],
      "text/plain": [
       "{-1: 1, 0: 1}"
      ]
     },
     "metadata": {},
     "output_type": "display_data"
    },
    {
     "data": {
      "text/markdown": [
       "---"
      ],
      "text/plain": [
       "<IPython.core.display.Markdown object>"
      ]
     },
     "metadata": {},
     "output_type": "display_data"
    },
    {
     "data": {
      "text/markdown": [
       "## Pauli-Z Gate"
      ],
      "text/plain": [
       "<IPython.core.display.Markdown object>"
      ]
     },
     "metadata": {},
     "output_type": "display_data"
    },
    {
     "data": {
      "text/markdown": [
       "### Unitary Matrix:"
      ],
      "text/plain": [
       "<IPython.core.display.Markdown object>"
      ]
     },
     "metadata": {},
     "output_type": "display_data"
    },
    {
     "data": {
      "image/png": "[encoded data removed]",
      "text/latex": [
       "$\\displaystyle \\left[\\begin{matrix}1 & 0\\\\0 & -1\\end{matrix}\\right]$"
      ],
      "text/plain": [
       "⎡1  0 ⎤\n",
       "⎢     ⎥\n",
       "⎣0  -1⎦"
      ]
     },
     "metadata": {},
     "output_type": "display_data"
    },
    {
     "data": {
      "text/markdown": [
       "### Hamiltonian Matrix:"
      ],
      "text/plain": [
       "<IPython.core.display.Markdown object>"
      ]
     },
     "metadata": {},
     "output_type": "display_data"
    },
    {
     "data": {
      "image/png": "[encoded data removed]",
      "text/latex": [
       "$\\displaystyle \\left[\\begin{matrix}0 & 0\\\\0 & -1\\end{matrix}\\right]$"
      ],
      "text/plain": [
       "⎡0  0 ⎤\n",
       "⎢     ⎥\n",
       "⎣0  -1⎦"
      ]
     },
     "metadata": {},
     "output_type": "display_data"
    },
    {
     "data": {
      "text/markdown": [
       "**Hermitian:** True"
      ],
      "text/plain": [
       "<IPython.core.display.Markdown object>"
      ]
     },
     "metadata": {},
     "output_type": "display_data"
    },
    {
     "data": {
      "text/markdown": [
       "### Eigenvalues:"
      ],
      "text/plain": [
       "<IPython.core.display.Markdown object>"
      ]
     },
     "metadata": {},
     "output_type": "display_data"
    },
    {
     "data": {
      "image/png": "[encoded data removed]",
      "text/latex": [
       "$\\displaystyle \\left\\{ -1 : 1, \\  0 : 1\\right\\}$"
      ],
      "text/plain": [
       "{-1: 1, 0: 1}"
      ]
     },
     "metadata": {},
     "output_type": "display_data"
    },
    {
     "data": {
      "text/markdown": [
       "---"
      ],
      "text/plain": [
       "<IPython.core.display.Markdown object>"
      ]
     },
     "metadata": {},
     "output_type": "display_data"
    }
   ],
   "source": [
    "import sympy as sp\n",
    "from IPython.display import display, Markdown\n",
    "\n",
    "# Configure SymPy printing for better notebook display\n",
    "sp.init_printing(use_unicode=True)\n",
    "\n",
    "# Define quantum gates with proper labels\n",
    "quantum_gates = {\n",
    "    \"CZ (Control-Z)\": sp.Matrix([\n",
    "        [1, 0, 0, 0],\n",
    "        [0, 1, 0, 0],\n",
    "        [0, 0, 1, 0],\n",
    "        [0, 0, 0, -1]]),\n",
    "    \n",
    "    \"CNOT (Control-X)\": sp.Matrix([\n",
    "        [1, 0, 0, 0],\n",
    "        [0, 1, 0, 0],\n",
    "        [0, 0, 0, 1],\n",
    "        [0, 0, 1, 0]]),\n",
    "    \n",
    "    \"SWAP\": sp.Matrix([\n",
    "        [1, 0, 0, 0],\n",
    "        [0, 0, 1, 0],\n",
    "        [0, 1, 0, 0],\n",
    "        [0, 0, 0, 1]]),\n",
    "    \n",
    "    \"Hadamard (H)\": 1/sp.sqrt(2)*sp.Matrix([\n",
    "        [1, 1],\n",
    "        [1, -1]]),\n",
    "    \n",
    "    \"Pauli-X\": sp.Matrix([\n",
    "        [0, 1],\n",
    "        [1, 0]]),\n",
    "    \n",
    "    \"Pauli-Z\": sp.Matrix([\n",
    "        [1, 0],\n",
    "        [0, -1]])\n",
    "}\n",
    "\n",
    "t = sp.pi  # Fundamental time parameter\n",
    "\n",
    "for gate_name, U in quantum_gates.items():\n",
    "    # Create formatted header\n",
    "    display(Markdown(f\"## {gate_name} Gate\"))\n",
    "    display(Markdown(\"### Unitary Matrix:\"))\n",
    "    display(U)\n",
    "    \n",
    "    try:\n",
    "        # Compute Hamiltonian components\n",
    "        logU = U.log()\n",
    "        H = (sp.I/t) * logU\n",
    "        H_simplified = sp.simplify(H)\n",
    "        \n",
    "        display(Markdown(\"### Hamiltonian Matrix:\"))\n",
    "        display(H_simplified)\n",
    "        \n",
    "        # Hermiticity check\n",
    "        is_hermitian = H_simplified.equals(H_simplified.conjugate().T)\n",
    "        display(Markdown(f\"**Hermitian:** {is_hermitian}\"))\n",
    "        \n",
    "        # Eigen decomposition\n",
    "        display(Markdown(\"### Eigenvalues:\"))\n",
    "        display(sp.simplify(H_simplified.eigenvals()))\n",
    "        \n",
    "    except Exception as e:\n",
    "        display(Markdown(f\"**Error:** {str(e)}\"))\n",
    "    \n",
    "    display(Markdown(\"---\"))"
   ]
  },
  {
   "cell_type": "code",
   "execution_count": 29,
   "metadata": {},
   "outputs": [
    {
     "data": {
      "image/png": "[encoded data removed]",
      "text/plain": [
       "<Figure size 1400x1000 with 8 Axes>"
      ]
     },
     "metadata": {},
     "output_type": "display_data"
    }
   ],
   "source": [
    "from scipy.linalg import expm\n",
    "import matplotlib.pyplot as plt\n",
    "\n",
    "def UMatrixGen(t):\n",
    "    # Convert the sympy matrix H to a nested list, then to a NumPy array of type complex.\n",
    "    H_np = np.array(H.tolist(), dtype=complex)\n",
    "    return expm(-1j * t * H_np)\n",
    "\n",
    "def generateStates(initial_state, times):\n",
    "    evolved_states = []\n",
    "    evolved_states.append(initial_state)\n",
    "    for t in times:\n",
    "        evolved_states.append(initial_state @ UMatrixGen(t))\n",
    "    return evolved_states\n",
    "times = np.linspace(1,10,200)\n",
    "\n",
    "initial_state = np.array([0.1, 0.5, 0.5j, 1], dtype=complex)\n",
    "norm = np.linalg.norm(initial_state)\n",
    "if norm != 0:\n",
    "     initial_state /= norm\n",
    "\n",
    "states = generateStates(initial_state,times)\n",
    "\n",
    "# Convert the list of states into a NumPy array for easier manipulation\n",
    "# The resulting shape is (number of time steps + 1, state_dimension)\n",
    "states_array = np.array(states)\n",
    "\n",
    "# Convert the list of states into a NumPy array for easier manipulation\n",
    "states_array = np.array(states)\n",
    "\n",
    "# Define number of components (dimension of the state vector)\n",
    "num_components = states_array.shape[1]  # <-- This was missing!\n",
    "\n",
    "# Plot magnitude and phase side by side\n",
    "fig, axes = plt.subplots(nrows=num_components, ncols=2, figsize=(14, 10))\n",
    "time_with_initial = np.insert(times, 0, 0)  # Include t=0\n",
    "\n",
    "for i in range(num_components):\n",
    "    # Magnitude plot (left column)\n",
    "    axes[i, 0].plot(time_with_initial, np.abs(states_array[:, i]))\n",
    "    axes[i, 0].set_ylabel(f'Component {i}\\nMagnitude', rotation=0, ha='right', va='center')\n",
    "    axes[i, 0].grid(True)\n",
    "    \n",
    "    # Phase plot (right column)\n",
    "    axes[i, 1].plot(time_with_initial, np.angle(states_array[:, i]))\n",
    "    axes[i, 1].set_ylabel(f'Component {i}\\nPhase (rad)', rotation=0, ha='right', va='center')\n",
    "    axes[i, 1].grid(True)\n",
    "    \n",
    "    # Hide x-axis labels except for bottom row\n",
    "    if i != num_components-1:\n",
    "        axes[i, 0].set_xticklabels([])\n",
    "        axes[i, 1].set_xticklabels([])\n",
    "\n",
    "# Set common labels\n",
    "axes[-1, 0].set_xlabel('Time')\n",
    "axes[-1, 1].set_xlabel('Time')\n",
    "\n",
    "plt.suptitle('Time Evolution of State Components: Magnitude and Phase', y=0.95)\n",
    "plt.tight_layout()\n",
    "plt.show()"
   ]
  },
  {
   "cell_type": "code",
   "execution_count": 47,
   "metadata": {},
   "outputs": [
    {
     "data": {
      "text/plain": [
       "'Initial amplitudes (normalized):'"
      ]
     },
     "metadata": {},
     "output_type": "display_data"
    },
    {
     "data": {
      "text/latex": [
       "$\\displaystyle \\left[\\begin{matrix}0.00761 + 0.648 i\\\\0.466 + 0.173 i\\\\0.231 + 0.217 i\\\\0.467 + 0.121 i\\end{matrix}\\right]$"
      ],
      "text/plain": [
       "Matrix([\n",
       "[0.00761 + 0.648*I],\n",
       "[  0.466 + 0.173*I],\n",
       "[  0.231 + 0.217*I],\n",
       "[  0.467 + 0.121*I]])"
      ]
     },
     "metadata": {},
     "output_type": "display_data"
    },
    {
     "data": {
      "text/plain": [
       "'Final state after CNOT:'"
      ]
     },
     "metadata": {},
     "output_type": "display_data"
    },
    {
     "data": {
      "text/latex": [
       "$\\displaystyle \\left[\\begin{matrix}0.00761 + 0.648 i\\\\0.466 + 0.173 i\\\\0.467 + 0.121 i\\\\0.231 + 0.217 i\\end{matrix}\\right]$"
      ],
      "text/plain": [
       "Matrix([\n",
       "[0.00761 + 0.648*I],\n",
       "[  0.466 + 0.173*I],\n",
       "[  0.467 + 0.121*I],\n",
       "[  0.231 + 0.217*I]])"
      ]
     },
     "metadata": {},
     "output_type": "display_data"
    },
    {
     "data": {
      "text/plain": [
       "'Initital Probabilities:'"
      ]
     },
     "metadata": {},
     "output_type": "display_data"
    },
    {
     "data": {
      "text/latex": [
       "$\\displaystyle \\left[\\begin{matrix}0.42\\\\0.247\\\\0.1\\\\0.233\\end{matrix}\\right]$"
      ],
      "text/plain": [
       "Matrix([\n",
       "[ 0.42],\n",
       "[0.247],\n",
       "[  0.1],\n",
       "[0.233]])"
      ]
     },
     "metadata": {},
     "output_type": "display_data"
    },
    {
     "data": {
      "text/plain": [
       "'Final Probabilities:'"
      ]
     },
     "metadata": {},
     "output_type": "display_data"
    },
    {
     "data": {
      "text/latex": [
       "$\\displaystyle \\left[\\begin{matrix}0.42\\\\0.247\\\\0.233\\\\0.1\\end{matrix}\\right]$"
      ],
      "text/plain": [
       "Matrix([\n",
       "[ 0.42],\n",
       "[0.247],\n",
       "[0.233],\n",
       "[  0.1]])"
      ]
     },
     "metadata": {},
     "output_type": "display_data"
    }
   ],
   "source": [
    "import random\n",
    "\n",
    "a = random.uniform(1,100) * complex(random.random(), random.random())\n",
    "b = random.uniform(1,100) * complex(random.random(), random.random())\n",
    "c = random.uniform(1,100) * complex(random.random(), random.random())\n",
    "d = random.uniform(1,100) * complex(random.random(), random.random())\n",
    "\n",
    "\n",
    "\n",
    "norm = sp.sqrt(abs(a)**2 + abs(b)**2 + abs(c)**2 + abs(d)**2)\n",
    "\n",
    "\n",
    "alpha = a/norm\n",
    "beta  = b/norm\n",
    "gamma = c/norm\n",
    "delta = d/norm\n",
    "\n",
    "initial_state = sp.Matrix([alpha, beta, gamma, delta])\n",
    "\n",
    "final_state = CNOT * initial_state\n",
    "\n",
    "# Extract final amplitudes\n",
    "P = sp.Matrix([0,0,0,0])\n",
    "P[0] = sp.Abs(final_state[0])**2\n",
    "P[1] = sp.Abs(final_state[1])**2\n",
    "P[2] = sp.Abs(final_state[2])**2\n",
    "P[3] = sp.Abs(final_state[3])**2\n",
    "\n",
    "# Extract final amplitudes\n",
    "P_init = sp.Matrix([0,0,0,0])\n",
    "P_init[0] = sp.Abs(initial_state[0])**2\n",
    "P_init[1] = sp.Abs(initial_state[1])**2\n",
    "P_init[2] = sp.Abs(initial_state[2])**2\n",
    "P_init[3] = sp.Abs(initial_state[3])**2\n",
    "\n",
    "\n",
    "\n",
    "\n",
    "display(\"Initial amplitudes (normalized):\", initial_state.evalf(3))\n",
    "display(\"Final state after CNOT:\", final_state.evalf(3))\n",
    "display(\"Initital Probabilities:\")\n",
    "display(P_init.evalf(3))\n",
    "display(\"Final Probabilities:\")\n",
    "display(P.evalf(3))\n"
   ]
  },
  {
   "cell_type": "code",
   "execution_count": 59,
   "metadata": {},
   "outputs": [
    {
     "name": "stdout",
     "output_type": "stream",
     "text": [
      "Measurement outcome: 01\n",
      "|O0> Count is: 4153\n",
      "|O1> Count is: 2511\n",
      "|10> Count is: 2321\n",
      "|11> Count is: 1015\n"
     ]
    }
   ],
   "source": [
    "import random\n",
    "\n",
    "def measure_two_qubits(prob_vec):\n",
    "    \"\"\"\n",
    "    prob_vec: a list or matrix [P00, P01, P10, P11]\n",
    "              where P00 + P01 + P10 + P11 = 1\n",
    "    returns: an outcome 0,1,2,3 corresponding to \n",
    "             00, 01, 10, 11 respectively\n",
    "    \"\"\"\n",
    "    # Generate a random float in [0,1)\n",
    "    r = random.random()\n",
    "    cumulative = 0\n",
    "    for i, p in enumerate(prob_vec):\n",
    "        cumulative += p\n",
    "        if r < cumulative:\n",
    "            return i\n",
    "\n",
    "outcome_index = measure_two_qubits(P)\n",
    "bitstring = format(outcome_index, \"02b\")  # e.g. 0 -> \"00\", 1 -> \"01\", etc.\n",
    "\n",
    "print(\"Measurement outcome:\", bitstring)\n",
    "\n",
    "P_list = []\n",
    "\n",
    "for i in range(0,int(10000)):\n",
    "    P_list.append(measure_two_qubits(P))\n",
    "\n",
    "#print(P_list)\n",
    "print(\"|O0> Count is: \" + str(P_list.count(0)))\n",
    "print(\"|O1> Count is: \" + str(P_list.count(1)))\n",
    "print(\"|10> Count is: \" + str(P_list.count(2)))\n",
    "print(\"|11> Count is: \" + str(P_list.count(3)))\n"
   ]
  }
 ],
 "metadata": {
  "kernelspec": {
   "display_name": "env",
   "language": "python",
   "name": "python3"
  },
  "language_info": {
   "codemirror_mode": {
    "name": "ipython",
    "version": 3
   },
   "file_extension": ".py",
   "mimetype": "text/x-python",
   "name": "python",
   "nbconvert_exporter": "python",
   "pygments_lexer": "ipython3",
   "version": "3.11.11"
  }
 },
 "nbformat": 4,
 "nbformat_minor": 2
}
