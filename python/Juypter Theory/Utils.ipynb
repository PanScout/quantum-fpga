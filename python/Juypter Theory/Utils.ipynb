{
 "cells": [
  {
   "cell_type": "code",
   "execution_count": null,
   "metadata": {},
   "outputs": [
    {
     "name": "stdout",
     "output_type": "stream",
     "text": [
      "sfixed(50 downto -64) representation of 3.14159:\n",
      "000000000000011001000111101\n",
      "Length = 27\n"
     ]
    }
   ],
   "source": [
    "def to_sfixed(value, left, right):\n",
    "    \"\"\"\n",
    "    Converts a number into its VHDL sfixed two's-complement binary representation.\n",
    "    \n",
    "    Parameters:\n",
    "      value : float or int\n",
    "          The number to convert.\n",
    "      left : int\n",
    "          The left (most significant) index of the sfixed type.\n",
    "      right : int\n",
    "          The right (least significant) index of the sfixed type.\n",
    "    \n",
    "    Returns:\n",
    "      A string of bits (with leading zeros if necessary) representing the fixed‐point number.\n",
    "      \n",
    "    For a type declared as sfixed(left downto right) the total number of bits is:\n",
    "          width = left - right + 1\n",
    "    For example, to_sfixed(3.14159, 50, -64) returns a binary string 115 bits long.\n",
    "    \n",
    "    (If you really need a 116‐bit result for 50, -64, then change the width calculation to:\n",
    "          width = left - right + 2\n",
    "    )\n",
    "    \"\"\"\n",
    "    # Compute the width of the sfixed representation.\n",
    "    width = left - right + 1\n",
    "    \n",
    "    # The fixed-point resolution is 2^(right). (Since right is usually negative, 2^(-right) is the scaling factor.)\n",
    "    scale = 2 ** (-right)\n",
    "    \n",
    "    # Multiply by the scaling factor and round to get the fixed‐point integer.\n",
    "    fixed_val = int(round(value * scale))\n",
    "    \n",
    "    # For negative numbers, convert to two's complement.\n",
    "    if fixed_val < 0:\n",
    "        fixed_val = (1 << width) + fixed_val\n",
    "\n",
    "    # Mask the result so that it fits in 'width' bits and then format as a zero-padded binary string.\n",
    "    fixed_val &= (1 << width) - 1\n",
    "    return format(fixed_val, '0{}b'.format(width))\n",
    "\n",
    "\n",
    "# Example usage:\n",
    "if __name__ == '__main__':\n",
    "    # For example, convert 3.14159 to sfixed with range (50 downto -64)\n",
    "    rep = to_sfixed(1.495585217958292 * 10**-2 , 14, -12)\n",
    "    print(\"sfixed(50 downto -64) representation of 3.14159:\")\n",
    "    print(rep)\n",
    "    print(\"Length =\", len(rep))\n",
    "\n"
   ]
  },
  {
   "cell_type": "code",
   "execution_count": null,
   "metadata": {},
   "outputs": [],
   "source": [
    "import numpy as np\n",
    "\n",
    "t_vals = np.linpsace(0,1,30)\n",
    "\n",
    "H = np.array([[-0.5,0.5],[0.5,-0.5]])\n",
    "psi = np.array([[0],[1]])"
   ]
  }
 ],
 "metadata": {
  "kernelspec": {
   "display_name": ".venv",
   "language": "python",
   "name": "python3"
  },
  "language_info": {
   "codemirror_mode": {
    "name": "ipython",
    "version": 3
   },
   "file_extension": ".py",
   "mimetype": "text/x-python",
   "name": "python",
   "nbconvert_exporter": "python",
   "pygments_lexer": "ipython3",
   "version": "3.12.9"
  }
 },
 "nbformat": 4,
 "nbformat_minor": 2
}
