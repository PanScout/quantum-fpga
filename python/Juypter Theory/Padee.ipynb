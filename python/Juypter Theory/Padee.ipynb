{
 "cells": [
  {
   "cell_type": "code",
   "execution_count": 186,
   "metadata": {},
   "outputs": [],
   "source": [
    "from sympy import Rational, factorial, zeros\n",
    "from sympy.matrices import Matrix\n",
    "import sympy as sp\n",
    "\n",
    "def padee_approx(M, m):\n",
    "    \"\"\"\n",
    "    Compute the mth degree Pade approximation for e^M.\n",
    "    \n",
    "    Parameters:\n",
    "    M : matrix or scalar\n",
    "        The input matrix or scalar for which to compute the exponential.\n",
    "    m : int\n",
    "        The degree of the Pade approximation.\n",
    "        \n",
    "    Returns:\n",
    "    Matrix or scalar\n",
    "        The Pade approximation of e^M.\n",
    "    \"\"\"\n",
    "    # Numerator Coefficients\n",
    "    def B_coef(k):\n",
    "        return Rational(\n",
    "            factorial(2*m - k) * factorial(m),\n",
    "            factorial(2*m) * factorial(k) * factorial(m - k)\n",
    "        )\n",
    "    \n",
    "    # Denominator Coefficients    \n",
    "    def A_coef(k): \n",
    "        return (-1)**k * B_coef(k)  \n",
    "    \n",
    "    # Check if M is a matrix by verifying if it has the 'shape' attribute\n",
    "    if hasattr(M, 'shape'):\n",
    "        # M is assumed to be a matrix\n",
    "        rows, cols = M.shape\n",
    "        N = zeros(rows, cols)\n",
    "        D = zeros(rows, cols)\n",
    "    \n",
    "        for k in range(0, m + 1):\n",
    "            N += B_coef(k) * M**k\n",
    "            D += A_coef(k) * M**k\n",
    "        \n",
    "        # Return the matrix product of N and the inverse of D\n",
    "        return N * D.inv()\n",
    "    else:\n",
    "        # M is assumed to be a scalar\n",
    "        N = 0\n",
    "        D = 0\n",
    "        for k in range(0, m + 1):\n",
    "            N += B_coef(k) * M**k\n",
    "            D += A_coef(k) * M**k\n",
    "        \n",
    "        # Return the scalar division of N by D\n",
    "        return N / D\n"
   ]
  },
  {
   "cell_type": "code",
   "execution_count": 187,
   "metadata": {},
   "outputs": [],
   "source": [
    "import sympy as sp\n",
    "\n",
    "def compute_s(M, theta):\n",
    "    \"\"\"\n",
    "    Compute the scaling factor 's' based on the infinity norm of matrix M and threshold theta.\n",
    "\n",
    "    Parameters:\n",
    "        M (sp.Matrix): The input matrix.\n",
    "        theta (float): The threshold value.\n",
    "\n",
    "    Returns:\n",
    "        int: The scaling factor 's'.\n",
    "    \"\"\"\n",
    "    norm = M.norm(ord=sp.oo)\n",
    "    s = sp.ceiling(sp.log(norm / theta, 2))\n",
    "    s = max(s, 0)  # Ensure s is not negative. YOU may be able to get rid of this by ensuring the norm is never less than the theta. \n",
    "    return s\n",
    "\n",
    "def scale_matrix(M, theta):\n",
    "    \"\"\"\n",
    "    Scale the matrix M by 2^s, where s is determined based on theta.\n",
    "\n",
    "    Parameters:\n",
    "        M (sp.Matrix): The input matrix.\n",
    "        theta (float): The threshold value.\n",
    "\n",
    "    Returns:\n",
    "        tuple: A tuple containing the scaled matrix B and the scaling factor s.\n",
    "    \"\"\"\n",
    "    s = compute_s(M, theta)\n",
    "    B = M / (2 ** s)\n",
    "    return B, s\n",
    "\n",
    "def padee_and_scale(M, theta_for_m_3):\n",
    "    \"\"\"\n",
    "    Apply Pade approximation to matrix M, scaling it if necessary based on theta_for_m_3.\n",
    "\n",
    "    Parameters:\n",
    "        M (array-like): The input matrix.\n",
    "        theta_for_m_3 (float): The threshold value for deciding scaling.\n",
    "\n",
    "    Returns:\n",
    "        sp.Matrix: The resulting matrix after Pade approximation and scaling.\n",
    "    \"\"\"\n",
    "    # Ensure M is a SymPy Matrix with complex entries\n",
    "    M = sp.Matrix(M).applyfunc(lambda x: sp.nsimplify(x, rational=True))  # Convert to SymPy types\n",
    "\n",
    "    # Compute the infinity norm of M\n",
    "    norm_inf = M.norm(ord=sp.oo)\n",
    "\n",
    "    if norm_inf < theta_for_m_3:\n",
    "        return padee_approx(M, 3)\n",
    "\n",
    "    # Scale the matrix if norm_inf >= theta_for_m_3\n",
    "    B, s = scale_matrix(M, theta_for_m_3)\n",
    "\n",
    "    # Apply Pade approximation to the scaled matrix\n",
    "    B = padee_approx(B, 3)\n",
    "\n",
    "    # Rescale the result\n",
    "    B = B ** (2 ** s)\n",
    "\n",
    "    return B\n"
   ]
  },
  {
   "cell_type": "code",
   "execution_count": 188,
   "metadata": {},
   "outputs": [
    {
     "data": {
      "text/latex": [
       "$\\displaystyle \\frac{- B^{3} - 12 B^{2} - 60 B - 120}{B^{3} - 12 B^{2} + 60 B - 120}$"
      ],
      "text/plain": [
       "(-B**3 - 12*B**2 - 60*B - 120)/(B**3 - 12*B**2 + 60*B - 120)"
      ]
     },
     "metadata": {},
     "output_type": "display_data"
    }
   ],
   "source": [
    "display( sp.simplify(padee_approx(sp.symbols('B'),3))) \n",
    "# Only do odd numbers, even numbers introduce poles or something that make them less accurate."
   ]
  },
  {
   "cell_type": "code",
   "execution_count": 189,
   "metadata": {},
   "outputs": [
    {
     "name": "stdout",
     "output_type": "stream",
     "text": [
      "Max bits needed is: 36.0\n"
     ]
    },
    {
     "data": {
      "image/png": "[encoded data removed]",
      "text/plain": [
       "<Figure size 800x600 with 1 Axes>"
      ]
     },
     "metadata": {},
     "output_type": "display_data"
    },
    {
     "data": {
      "text/latex": [
       "$\\displaystyle 13$"
      ],
      "text/plain": [
       "13"
      ]
     },
     "execution_count": 189,
     "metadata": {},
     "output_type": "execute_result"
    }
   ],
   "source": [
    "import sympy as sp\n",
    "import numpy as np\n",
    "import matplotlib.pyplot as plt\n",
    "from statistics import median, mode\n",
    "B = sp.symbols('B')\n",
    "num, den = sp.fraction(sp.simplify(padee_approx(B,3)))\n",
    "num = sp.simplify(num)\n",
    "den = sp.simplify(den)\n",
    "\n",
    "num_poly = sp.Poly(num, B)\n",
    "den_poly = sp.Poly(den, B)\n",
    "\n",
    "bits_list = []\n",
    "for i in range(0,100):\n",
    "\n",
    "    #sp.pprint(num_poly)\n",
    "\n",
    "    def eval_poly_matrix(poly, M):\n",
    "        # Get the coefficients in order of descending degree.\n",
    "        coeffs = poly.all_coeffs()  # e.g., [a_n, a_{n-1}, ..., a_0]\n",
    "        deg = len(coeffs) - 1\n",
    "        # Initialize the result as a zero matrix of the same size as M.\n",
    "        result = sp.zeros(M.rows, M.cols)\n",
    "        for i, coeff in enumerate(coeffs):\n",
    "            power = deg - i\n",
    "            result += coeff * (M ** power)\n",
    "        return result\n",
    "\n",
    "    M = sp.Matrix(np.ceil( 10 * np.random.rand(4,4)  ))\n",
    "\n",
    "    result_matrix = eval_poly_matrix(num_poly, M)\n",
    "    #sp.pprint(result_matrix)\n",
    "\n",
    "    max_norm = max(abs(val) for val in result_matrix)\n",
    "\n",
    "    #sp.pprint(max_norm)\n",
    "\n",
    "    integer_bits = sp.ceiling(sp.log(max_norm, 2).evalf(3))\n",
    "\n",
    "    #sp.pprint(integer_bits)\n",
    "\n",
    "    decimal_bits = compute_s(result_matrix, 1.495585217958292 * 10**-2  )\n",
    "    #sp.pprint(decimal_bits)\n",
    "    \n",
    "    bits_list.append(decimal_bits + integer_bits)\n",
    "\n",
    "#sp.pprint(bits_list)\n",
    "\n",
    "\n",
    "bits_list_numeric = [float(val) for val in bits_list]\n",
    "\n",
    "# Compute the median and mode.\n",
    "median_value = median(bits_list_numeric)\n",
    "mode_value = mode(bits_list_numeric)\n",
    "\n",
    "# Determine the bin edges so that each bin represents an integer.\n",
    "min_val = min(bits_list_numeric)\n",
    "max_val = max(bits_list_numeric)\n",
    "print(f\"Max bits needed is: {max_val}\" )\n",
    "bins = np.arange(min_val, max_val + 2)  # +2 so that the last bin edge includes max_val\n",
    "\n",
    "# Create the histogram.\n",
    "plt.figure(figsize=(8, 6))\n",
    "plt.hist(bits_list_numeric, bins=bins, alpha=0.7, color='skyblue', edgecolor='black')\n",
    "\n",
    "# Plot vertical lines for mode and median.\n",
    "plt.axvline(mode_value, color='red', linestyle='dashed', linewidth=2, label=f'Mode: {mode_value}')\n",
    "plt.axvline(median_value, color='green', linestyle='dashed', linewidth=2, label=f'Median: {median_value}')\n",
    "\n",
    "# Add labels and title.\n",
    "plt.xlabel('Value')\n",
    "plt.ylabel('Frequency')\n",
    "plt.xscale('log')\n",
    "plt.title('Histogram of bits_list with Mode and Median')\n",
    "plt.legend()\n",
    "\n",
    "plt.show()\n",
    "\n",
    "\n",
    "compute_s( 8192j * sp.Matrix([[1, 1j],[0,1]]), 2.1)"
   ]
  },
  {
   "cell_type": "code",
   "execution_count": 190,
   "metadata": {},
   "outputs": [],
   "source": [
    "theta_for_m_3 = 1.495585217958292 * 10**-2 \n",
    "theta_for_m_5 = 2.539398330063230 * 10**-1"
   ]
  },
  {
   "cell_type": "code",
   "execution_count": 191,
   "metadata": {},
   "outputs": [
    {
     "data": {
      "text/plain": [
       "'The inputted matrix:'"
      ]
     },
     "metadata": {},
     "output_type": "display_data"
    },
    {
     "data": {
      "text/latex": [
       "$\\displaystyle \\left[\\begin{matrix}1 + 3 i & 0.2 + 0.4 i\\\\-4 - 4 i & - 0.8 i\\end{matrix}\\right]$"
      ],
      "text/plain": [
       "Matrix([\n",
       "[ 1 + 3*I, 0.2 + 0.4*I],\n",
       "[-4 - 4*I,      -0.8*I]])"
      ]
     },
     "metadata": {},
     "output_type": "display_data"
    },
    {
     "name": "stdout",
     "output_type": "stream",
     "text": [
      "The matrices norm is 6.46\n"
     ]
    },
    {
     "data": {
      "text/plain": [
       "'In-built function exp():'"
      ]
     },
     "metadata": {},
     "output_type": "display_data"
    },
    {
     "data": {
      "text/latex": [
       "$\\displaystyle \\left[\\begin{matrix}-1.17 + 1.33 i & -0.235 + 0.397 i\\\\1.23 - 5.71 i & 1.57 - 1.67 i\\end{matrix}\\right]$"
      ],
      "text/plain": [
       "Matrix([\n",
       "[-1.17 + 1.33*I, -0.235 + 0.397*I],\n",
       "[ 1.23 - 5.71*I,    1.57 - 1.67*I]])"
      ]
     },
     "metadata": {},
     "output_type": "display_data"
    },
    {
     "data": {
      "text/plain": [
       "'My function:'"
      ]
     },
     "metadata": {},
     "output_type": "display_data"
    },
    {
     "data": {
      "text/latex": [
       "$\\displaystyle \\left[\\begin{matrix}-1.17 + 1.33 i & -0.235 + 0.397 i\\\\1.23 - 5.71 i & 1.57 - 1.67 i\\end{matrix}\\right]$"
      ],
      "text/plain": [
       "Matrix([\n",
       "[-1.17 + 1.33*I, -0.235 + 0.397*I],\n",
       "[ 1.23 - 5.71*I,    1.57 - 1.67*I]])"
      ]
     },
     "metadata": {},
     "output_type": "display_data"
    }
   ],
   "source": [
    "from numba import jit\n",
    "import numpy as np\n",
    "\n",
    "\n",
    "testMatrix = Matrix([[1+3*sp.I,0.2+0.4*sp.I],[-4-4*sp.I,-0.8*sp.I]])\n",
    "\n",
    "display(\"The inputted matrix:\", testMatrix)\n",
    "\n",
    "print(\"The matrices norm is\", testMatrix.norm(sp.oo).evalf(3))\n",
    "\n",
    "display(\"In-built function exp():\", testMatrix.exp().evalf(3))\n",
    "\n",
    "display(\"My function:\", padee_and_scale(testMatrix, theta_for_m_3).evalf(3))\n",
    "\n",
    "\n",
    "\n"
   ]
  },
  {
   "cell_type": "code",
   "execution_count": null,
   "metadata": {},
   "outputs": [],
   "source": []
  },
  {
   "cell_type": "markdown",
   "metadata": {},
   "source": [
    "# So the pipeline for this is gonna look like this:\n",
    "\n",
    "1. We spilt the Hamilation Matrix into 6 matrices, one associasted with each cell so we have empty matrices except for one cell. This minimizes their norm  and allows for much easier matrix multiplication and squaring so computation is easier. (Here H1 H2 etc mean the six matrices that add up to H)\n",
    "    $$e^H = e^{H_1}e^{H_2}e^{H_3}e^{H_4}e^{H_5}e^{H_6}$$\n",
    "2. In VHDL we take the symbolic equations for each Matrices cell and use them to calculate a concrete value (example from one of the matrices):\n",
    "    $$-it(-H1+H2-J) = C$$\n",
    "3. We take this matrix with one cell that is the value C and if the matrices norm exceeds $1.496* 10^{-2}$ we calculate our scaling factor s, if not we simply use it directly with Padee approximation. \n",
    "    $$\n",
    "    s = \\left\\lceil \\log_2\\left(\\frac{\\|A\\|}{\\theta}\\right) \\right\\rceil , \\theta=1.496* 10^{-2}\n",
    "    $$\n",
    "4. If we have a scaling factor $s$ we divide the matrix with value $C$ by the value $2^s$ to get a new scaled down matrix.\n",
    "$$B = \\frac{H_n}{2^{s}} = \\frac{C}{2^{s}} $$\n",
    "5. We use this scaled down matrix B in our third degree Pradee approximattion. \n",
    "$$\\frac{- B^{3} - 12 B^{2} - 60 B - 120}{B^{3} - 12 B^{2} + 60 C - 120} = B_n$$\n",
    "6. We take this matrix $B_n$ and scale it back up through the following formula:\n",
    "$$B_f = B_n^{2^{s}}$$\n",
    "7. $Bf$ is our final result. We do this $H_1$ through $H_6$ and then multiply all six together to get our final result $e^H$\n",
    "\n"
   ]
  },
  {
   "cell_type": "code",
   "execution_count": 220,
   "metadata": {},
   "outputs": [
    {
     "name": "stdout",
     "output_type": "stream",
     "text": [
      "Bits needed is 13.0\n"
     ]
    }
   ],
   "source": [
    "import numpy as np\n",
    "\n",
    "def evaluate_numerator(B):\n",
    "    \"\"\"\n",
    "    Evaluates the numerator polynomial: -B³ -12B² -60B -120\n",
    "    for a square matrix B using Horner's nested form.\n",
    "    \"\"\"\n",
    "    I = np.eye(B.shape[0])  # Identity matrix\n",
    "    term = B + 12 * I       # (B + 12I)\n",
    "    term = term @ B + 60 * I  # ((B + 12I)B + 60I)\n",
    "    term = term @ B + 120 * I # (((B + 12I)B + 60I)B + 120I)\n",
    "    return -term             # Negative of the result\n",
    "\n",
    "def evaluate_denominator(B):\n",
    "    \"\"\"\n",
    "    Evaluates the denominator polynomial: B³ -12B² +60B -120\n",
    "    for a square matrix B using Horner's nested form.\n",
    "    \"\"\"\n",
    "    I = np.eye(B.shape[0])  # Identity matrix\n",
    "    term = B - 12 * I       # (B - 12I)\n",
    "    term = term @ B + 60 * I  # ((B - 12I)B + 60I)\n",
    "    term = term @ B - 120 * I # (((B - 12I)B + 60I)B - 120I)\n",
    "    return term\n",
    "\n",
    "\n",
    "def process_matrix(A, t):\n",
    "    \"\"\"\n",
    "    Process the matrix A with time parameter t and return the number of bits needed.\n",
    "    \n",
    "    Steps:\n",
    "      1. Multiply A by t * 1j (imaginary unit) to obtain a complex matrix.\n",
    "      2. Compute a scaling factor S using compute_s and theta_for_m_3.\n",
    "      3. Downscale the complex matrix by 2^(-S).\n",
    "      4. Evaluate the denominator polynomial on the downscaled matrix.\n",
    "      5. Compute the product of the 1-norm (max column sum) and infinity norm (max row sum)\n",
    "         of the resulting matrix.\n",
    "      6. Return the number of bits needed as ceil(log2(norm_product)).\n",
    "    \n",
    "    Parameters:\n",
    "        A (np.ndarray): Input square matrix.\n",
    "        t (float): Time parameter.\n",
    "        \n",
    "    Returns:\n",
    "        float: The number of bits needed.\n",
    "    \"\"\"\n",
    "    # Nested helper function to compute product of norms.\n",
    "    def product_norms(matrix):\n",
    "        norm_1 = np.max(np.sum(np.abs(matrix), axis=0))\n",
    "        norm_inf = np.max(np.sum(np.abs(matrix), axis=1))\n",
    "        return norm_1 * norm_inf\n",
    "    \n",
    "    # Step 1: Scale the matrix by t * 1j.\n",
    "    A_complex = t * 1j * A\n",
    "    \n",
    "    # Step 2: Compute scaling factor S using compute_s and theta_for_m_3.\n",
    "    # (Ensure compute_s and theta_for_m_3 are defined in your notebook.)\n",
    "    S = compute_s(sp.Matrix(A_complex), theta_for_m_3)\n",
    "    \n",
    "    # Step 3: Downscale the matrix.\n",
    "    downscaled_A = A_complex * 2**(-S)\n",
    "    \n",
    "    # Step 4: Evaluate the denominator polynomial.\n",
    "    denominator = evaluate_denominator(downscaled_A)\n",
    "    \n",
    "    # Step 5: Compute the product of the norms.\n",
    "    norm_product = product_norms(denominator)\n",
    "    \n",
    "    # Step 6: Compute and return the number of bits needed.\n",
    "    bits_needed = np.ceil(np.log2(np.float64(norm_product)))\n",
    "    return bits_needed\n",
    "\n",
    "\n",
    "\n",
    "A = np.matrix([[-0.5,0.5],\n",
    "               [0.5, -0.5]])\n",
    "A = np.kron(A,A)\n",
    "\n",
    "t = 10_000\n",
    "\n",
    "print(f\"Bits needed is {process_matrix(A,t) - 1}\")\n",
    "\n",
    "\n",
    "\n"
   ]
  },
  {
   "cell_type": "code",
   "execution_count": null,
   "metadata": {},
   "outputs": [],
   "source": []
  }
 ],
 "metadata": {
  "kernelspec": {
   "display_name": ".venv",
   "language": "python",
   "name": "python3"
  },
  "language_info": {
   "codemirror_mode": {
    "name": "ipython",
    "version": 3
   },
   "file_extension": ".py",
   "mimetype": "text/x-python",
   "name": "python",
   "nbconvert_exporter": "python",
   "pygments_lexer": "ipython3",
   "version": "3.13.2"
  }
 },
 "nbformat": 4,
 "nbformat_minor": 2
}
