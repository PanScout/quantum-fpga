{
 "cells": [
  {
   "cell_type": "code",
   "execution_count": 1,
   "metadata": {},
   "outputs": [
    {
     "name": "stdout",
     "output_type": "stream",
     "text": [
      "Hello World!\n"
     ]
    }
   ],
   "source": [
    "print(\"Hello World!\")"
   ]
  },
  {
   "cell_type": "code",
   "execution_count": 2,
   "metadata": {},
   "outputs": [
    {
     "name": "stdout",
     "output_type": "stream",
     "text": [
      "Initializing 1024-dim quantum system on mps...\n",
      "Precomputing time evolution...\n",
      "Processing t = 1.00 (2048/2048)\n",
      "Precomputed 2048 frames in 16.35s\n",
      "Rendering frames with multithreading in chunks...\n"
     ]
    },
    {
     "data": {
      "application/vnd.jupyter.widget-view+json": {
       "model_id": "30a11014ff5d4368896a38070f3dbb56",
       "version_major": 2,
       "version_minor": 0
      },
      "text/plain": [
       "Chunk 4/4:   0%|          | 0/512 [00:00<?, ?it/s]"
      ]
     },
     "metadata": {},
     "output_type": "display_data"
    },
    {
     "data": {
      "application/vnd.jupyter.widget-view+json": {
       "model_id": "73e3e0a8cb2348ebbf0e10e3090c7755",
       "version_major": 2,
       "version_minor": 0
      },
      "text/plain": [
       "Chunk 3/4:   0%|          | 0/512 [00:00<?, ?it/s]"
      ]
     },
     "metadata": {},
     "output_type": "display_data"
    },
    {
     "data": {
      "application/vnd.jupyter.widget-view+json": {
       "model_id": "95bb0d63836245149b23db2493288254",
       "version_major": 2,
       "version_minor": 0
      },
      "text/plain": [
       "Chunk 1/4:   0%|          | 0/512 [00:00<?, ?it/s]"
      ]
     },
     "metadata": {},
     "output_type": "display_data"
    },
    {
     "data": {
      "application/vnd.jupyter.widget-view+json": {
       "model_id": "139e5ec073e14e82b8df6c209c8bd6e0",
       "version_major": 2,
       "version_minor": 0
      },
      "text/plain": [
       "Chunk 2/4:   0%|          | 0/512 [00:00<?, ?it/s]"
      ]
     },
     "metadata": {},
     "output_type": "display_data"
    },
    {
     "data": {
      "application/vnd.jupyter.widget-view+json": {
       "model_id": "93cf12d856564f24a9e65066894c3b9c",
       "version_major": 2,
       "version_minor": 0
      },
      "text/plain": [
       "Writing frames to ffmpeg:   0%|          | 0/2048 [00:00<?, ?it/s]"
      ]
     },
     "metadata": {},
     "output_type": "display_data"
    },
    {
     "name": "stdout",
     "output_type": "stream",
     "text": [
      "\n",
      "Total render time: 402.8s\n",
      "Output file: quantum_q10_render2048_output30.mp4\n"
     ]
    }
   ],
   "source": [
    "import os\n",
    "import subprocess\n",
    "import time\n",
    "import math\n",
    "import sys\n",
    "import torch\n",
    "import numpy as np\n",
    "from scipy.ndimage import gaussian_filter\n",
    "import matplotlib\n",
    "matplotlib.use(\"Agg\")  # Use non-interactive backend\n",
    "import matplotlib.pyplot as plt\n",
    "from mpl_toolkits.mplot3d import Axes3D  # Ensure 3D plotting is available\n",
    "import matplotlib.cm as cm\n",
    "import matplotlib.colors as colors\n",
    "import io\n",
    "from concurrent.futures import ThreadPoolExecutor, as_completed\n",
    "from tqdm.auto import tqdm\n",
    "from IPython.display import Video, display\n",
    "\n",
    "# Use the Solarized Light Two style for a pleasing look.\n",
    "plt.style.use('Solarize_Light2')\n",
    "\n",
    "# === Configuration ===\n",
    "t_min, t_max = 0, 1\n",
    "render_fps = 2048       # Rendering frames per second (for smooth slow motion)\n",
    "output_fps = 30        # Final video playback FPS\n",
    "n_qubits = 10           # Number of qubits\n",
    "system_dim = 2 ** n_qubits         # Hilbert space dimension\n",
    "s = int(np.sqrt(system_dim))         # Grid size (assumed square)\n",
    "height_scale = 1\n",
    "sigma = 1\n",
    "\n",
    "# Figure settings\n",
    "fig_size = (10, 10)   # Figure size in inches for rendering\n",
    "dpi = 150             # Resolution for saving figures (dots per inch)\n",
    "color_map = 'hsv'     # Color mapping for phase (overrides the theme)\n",
    "num_frames = int(math.ceil(render_fps * (t_max - t_min)))\n",
    "# ======================\n",
    "\n",
    "# Set up device (using MPS if available, else CPU)\n",
    "device = torch.device(\"mps\" if torch.backends.mps.is_available() else \"cpu\")\n",
    "\n",
    "# --- Quantum Gates Setup ---\n",
    "I = torch.eye(2, dtype=torch.complex64, device=device)\n",
    "X = torch.tensor([[0, 1], [1, 0]], dtype=torch.complex64, device=device)\n",
    "Y = torch.tensor([[0, -1j], [1j, 0]], dtype=torch.complex64, device=device)\n",
    "Z = torch.tensor([[1, 0], [0, -1]], dtype=torch.complex64, device=device)\n",
    "\n",
    "def tensor_product(operators):\n",
    "    result = operators[0]\n",
    "    for op in operators[1:]:\n",
    "        result = torch.kron(result, op)\n",
    "    return result\n",
    "\n",
    "# --- Hamiltonian Construction ---\n",
    "def build_hamiltonian():\n",
    "    pauli_gates = [I, X, Y, Z]\n",
    "    num_terms = 10\n",
    "    H = torch.zeros((system_dim, system_dim), dtype=torch.complex64, device=device)\n",
    "    for _ in range(num_terms):\n",
    "        gate_indices = torch.randint(0, 4, (n_qubits,))\n",
    "        paulis = [pauli_gates[i] for i in gate_indices]\n",
    "        H += torch.randn(1, device=device) * tensor_product(paulis)\n",
    "    return (H + H.mH) / 2  # Ensure Hermiticity\n",
    "\n",
    "# --- Quantum System Initialization ---\n",
    "print(f\"Initializing {system_dim}-dim quantum system on {device}...\")\n",
    "H = build_hamiltonian()\n",
    "\n",
    "# Create and normalize initial state vector\n",
    "V_rand = (torch.randn(system_dim, dtype=torch.complex64, device=device) +\n",
    "          1j * torch.randn(system_dim, dtype=torch.complex64, device=device))\n",
    "norm = torch.sqrt(torch.sum(torch.abs(V_rand) ** 2))\n",
    "V_rand /= norm\n",
    "\n",
    "# --- Precompute Evolution ---\n",
    "print(\"Precomputing time evolution...\")\n",
    "pre_start = time.time()\n",
    "\n",
    "# Compute eigen-decomposition (temporarily on CPU in double precision)\n",
    "H_cpu = H.cpu().to(torch.complex128)\n",
    "eigvals, Q = torch.linalg.eigh(H_cpu)\n",
    "\n",
    "# Convert eigenvalues and Q back to appropriate types and move to device.\n",
    "eigvals = eigvals.to(device, dtype=torch.float32)\n",
    "Q = Q.to(device, dtype=H.dtype)\n",
    "\n",
    "t_values = torch.linspace(t_min, t_max, num_frames, device=device)\n",
    "Z_all = torch.empty((s, s, num_frames), device=device)\n",
    "C_all = torch.empty((s, s, num_frames), device=device)\n",
    "\n",
    "for i, t in enumerate(t_values):\n",
    "    sys.stdout.write(f\"\\rProcessing t = {t:.2f} ({i+1}/{num_frames})\")\n",
    "    sys.stdout.flush()\n",
    "    phase_factors = torch.exp(-1j * eigvals * t)\n",
    "    evolved = Q @ (phase_factors * (Q.mH @ V_rand))\n",
    "    \n",
    "    # Compute probability distribution and reshape as grid\n",
    "    prob_data = torch.abs(evolved) ** 2\n",
    "    prob_matrix = prob_data.view(s, s)\n",
    "    filtered_np = gaussian_filter(prob_matrix.cpu().numpy() * height_scale, sigma=sigma)\n",
    "    filtered = torch.tensor(filtered_np, device=device)\n",
    "    fmin, fmax = filtered.min(), filtered.max()\n",
    "    Z_all[:, :, i] = (filtered - fmin) / (fmax - fmin) if fmax > fmin else 0\n",
    "    \n",
    "    # Compute phase (normalized to [0, 1])\n",
    "    evolved_view = evolved.view(s, s)\n",
    "    real = evolved_view.real\n",
    "    imag = evolved_view.imag\n",
    "    phase = (torch.atan2(imag, real) + math.pi) / (2 * math.pi)\n",
    "    phase_np = gaussian_filter(phase.cpu().numpy(), sigma=sigma) % 1\n",
    "    C_all[:, :, i] = torch.tensor(phase_np, device=device)\n",
    "\n",
    "# Move final results to CPU for plotting.\n",
    "Z_all = Z_all.cpu().numpy()\n",
    "C_all = C_all.cpu().numpy()\n",
    "print(f\"\\nPrecomputed {num_frames} frames in {time.time()-pre_start:.2f}s\")\n",
    "\n",
    "# --- FFmpeg Setup ---\n",
    "def create_ffmpeg_pipe(output_filename):\n",
    "    return subprocess.Popen([\n",
    "        'ffmpeg', '-y', '-loglevel', 'error',\n",
    "        '-f', 'image2pipe',\n",
    "        '-framerate', str(render_fps),\n",
    "        '-c:v', 'png',\n",
    "        '-i', '-',\n",
    "        '-vf', f'pad=ceil(iw/2)*2:ceil(ih/2)*2,setpts=({render_fps}/{output_fps})*PTS',\n",
    "        '-c:v', 'libx264',\n",
    "        '-crf', '18',\n",
    "        '-preset', 'slow',\n",
    "        '-tune', 'animation',\n",
    "        '-r', str(output_fps),\n",
    "        '-pix_fmt', 'yuv420p',\n",
    "        '-movflags', '+faststart',\n",
    "        output_filename\n",
    "    ], stdin=subprocess.PIPE)\n",
    "\n",
    "output_filename = f\"quantum_q{n_qubits}_render{render_fps}_output{output_fps}.mp4\"\n",
    "ffmpeg = create_ffmpeg_pipe(output_filename)\n",
    "\n",
    "# Precompute the meshgrid for plotting.\n",
    "X, Y = np.meshgrid(np.arange(s), np.arange(s))\n",
    "\n",
    "# --- Define Frame Rendering Function ---\n",
    "def render_frame(frame):\n",
    "    \"\"\"\n",
    "    Renders a single frame and returns a tuple (frame_index, image_data)\n",
    "    \"\"\"\n",
    "    fig = plt.figure(figsize=fig_size)\n",
    "    ax = fig.add_subplot(111, projection='3d')\n",
    "    \n",
    "    # Set orthographic projection if available.\n",
    "    try:\n",
    "        ax.set_proj_type('ortho')\n",
    "    except Exception:\n",
    "        pass\n",
    "    ax.view_init(elev=55, azim=45)\n",
    "    \n",
    "    # Aesthetic enhancements.\n",
    "    ax.set_xlabel('X axis', fontsize=14, labelpad=10)\n",
    "    ax.set_ylabel('Y axis', fontsize=14, labelpad=10)\n",
    "    ax.set_zlabel('Amplitude', fontsize=14, labelpad=10)\n",
    "    ax.tick_params(axis='both', which='major', labelsize=12)\n",
    "    ax.grid(True, linestyle='--', alpha=0.7)\n",
    "    \n",
    "    # Retrieve data for the current frame.\n",
    "    z_data = Z_all[:, :, frame]\n",
    "    phase_data = C_all[:, :, frame]\n",
    "    \n",
    "    # Map phase to colors using the configured colormap.\n",
    "    cmap = plt.get_cmap(color_map)\n",
    "    facecolors = cmap(phase_data)\n",
    "    \n",
    "    # Plot the 3D surface.\n",
    "    ax.plot_surface(X, Y, z_data, facecolors=facecolors,\n",
    "                    rstride=1, cstride=1, linewidth=0, antialiased=True)\n",
    "    \n",
    "    # Set a title with the current simulation time.\n",
    "    t_val = t_values[frame].item()\n",
    "    ax.set_title(f\"Time Evolution: t = {t_val:.2f}\", pad=20, fontsize=16)\n",
    "    \n",
    "    # Add a colorbar to indicate phase.\n",
    "    norm = colors.Normalize(vmin=0, vmax=1)\n",
    "    sm = cm.ScalarMappable(cmap=cmap, norm=norm)\n",
    "    sm.set_array([])\n",
    "    cbar = fig.colorbar(sm, ax=ax, shrink=0.6, aspect=15, pad=0.1)\n",
    "    cbar.set_label('Phase', fontsize=14)\n",
    "    cbar.ax.tick_params(labelsize=12)\n",
    "    \n",
    "    # Save the figure to an in-memory buffer.\n",
    "    buf = io.BytesIO()\n",
    "    plt.savefig(buf, format='png', bbox_inches='tight', pad_inches=0.1, dpi=dpi)\n",
    "    plt.close(fig)\n",
    "    img_data = buf.getvalue()\n",
    "    buf.close()\n",
    "    return frame, img_data\n",
    "\n",
    "# --- Multithreaded Rendering ---\n",
    "# --- Multithreaded Rendering in Chunks ---\n",
    "print(\"Rendering frames with multithreading in chunks...\")\n",
    "render_start = time.time()\n",
    "results = [None] * num_frames\n",
    "\n",
    "# Define the number of chunks (adjust as desired)\n",
    "num_chunks = 4  \n",
    "chunk_size = num_frames // num_chunks\n",
    "\n",
    "# Create a list of (start, end) indices for each chunk,\n",
    "# making sure to distribute any remainder frames.\n",
    "chunks = []\n",
    "start_idx = 0\n",
    "for i in range(num_chunks):\n",
    "    # Distribute remainder frames one per chunk until exhausted.\n",
    "    extra = 1 if i < (num_frames % num_chunks) else 0\n",
    "    end_idx = start_idx + chunk_size + extra\n",
    "    chunks.append((start_idx, end_idx))\n",
    "    start_idx = end_idx\n",
    "\n",
    "def process_chunk(chunk_index, start, end):\n",
    "    # Each chunk gets its own progress bar (using unique position)\n",
    "    for frame in tqdm(range(start, end), desc=f\"Chunk {chunk_index+1}/{num_chunks}\", position=chunk_index, leave=False):\n",
    "        frame_index, img_data = render_frame(frame)\n",
    "        results[frame_index] = img_data\n",
    "\n",
    "# Launch a separate thread for each chunk.\n",
    "with ThreadPoolExecutor(max_workers=num_chunks) as executor:\n",
    "    futures = [\n",
    "        executor.submit(process_chunk, chunk_index, start, end)\n",
    "        for chunk_index, (start, end) in enumerate(chunks)\n",
    "    ]\n",
    "    # Wait for all threads to complete.\n",
    "    for future in as_completed(futures):\n",
    "        future.result()\n",
    "\n",
    "# Write rendered frames to FFmpeg in order.\n",
    "for img_data in tqdm(results, desc=\"Writing frames to ffmpeg\"):\n",
    "    ffmpeg.stdin.write(img_data)\n",
    "\n",
    "ffmpeg.stdin.close()\n",
    "ffmpeg.wait()\n",
    "total_render_time = time.time() - render_start\n",
    "print(f\"\\nTotal render time: {total_render_time:.1f}s\")\n",
    "print(f\"Output file: {output_filename}\")\n"
   ]
  }
 ],
 "metadata": {
  "kernelspec": {
   "display_name": ".venv",
   "language": "python",
   "name": "python3"
  },
  "language_info": {
   "codemirror_mode": {
    "name": "ipython",
    "version": 3
   },
   "file_extension": ".py",
   "mimetype": "text/x-python",
   "name": "python",
   "nbconvert_exporter": "python",
   "pygments_lexer": "ipython3",
   "version": "3.13.2"
  }
 },
 "nbformat": 4,
 "nbformat_minor": 2
}
