{
 "cells": [
  {
   "cell_type": "code",
   "execution_count": 19,
   "metadata": {},
   "outputs": [
    {
     "data": {
      "text/latex": [
       "$\\displaystyle \\left[\\begin{matrix}2 + 2 i & 2\\\\2 & 2 + 2 i\\end{matrix}\\right]$"
      ],
      "text/plain": [
       "Matrix([\n",
       "[2 + 2*I,       2],\n",
       "[      2, 2 + 2*I]])"
      ]
     },
     "execution_count": 19,
     "metadata": {},
     "output_type": "execute_result"
    }
   ],
   "source": [
    "import sympy as sp\n",
    "\n",
    "A = sp.Matrix([[2+2*sp.I,2],[2,2+2*sp.I]])\n",
    "A"
   ]
  },
  {
   "cell_type": "code",
   "execution_count": 20,
   "metadata": {},
   "outputs": [
    {
     "data": {
      "text/latex": [
       "$\\displaystyle \\left[\\begin{matrix}\\frac{e^{2 i}}{2} + \\frac{e^{4 + 2 i}}{2} & - \\frac{e^{2 i}}{2} + \\frac{e^{4 + 2 i}}{2}\\\\- \\frac{e^{2 i}}{2} + \\frac{e^{4 + 2 i}}{2} & \\frac{e^{2 i}}{2} + \\frac{e^{4 + 2 i}}{2}\\end{matrix}\\right]$"
      ],
      "text/plain": [
       "Matrix([\n",
       "[ exp(2*I)/2 + exp(4 + 2*I)/2, -exp(2*I)/2 + exp(4 + 2*I)/2],\n",
       "[-exp(2*I)/2 + exp(4 + 2*I)/2,  exp(2*I)/2 + exp(4 + 2*I)/2]])"
      ]
     },
     "execution_count": 20,
     "metadata": {},
     "output_type": "execute_result"
    }
   ],
   "source": [
    "A_exp = sp.exp(A)\n",
    "A_exp"
   ]
  },
  {
   "cell_type": "code",
   "execution_count": 21,
   "metadata": {},
   "outputs": [
    {
     "data": {
      "text/latex": [
       "$\\displaystyle \\left[\\begin{matrix}-11.6 + 25.3 i & -11.2 + 24.4 i\\\\-11.2 + 24.4 i & -11.6 + 25.3 i\\end{matrix}\\right]$"
      ],
      "text/plain": [
       "Matrix([\n",
       "[-11.6 + 25.3*I, -11.2 + 24.4*I],\n",
       "[-11.2 + 24.4*I, -11.6 + 25.3*I]])"
      ]
     },
     "execution_count": 21,
     "metadata": {},
     "output_type": "execute_result"
    }
   ],
   "source": [
    "A_exp.evalf(3)"
   ]
  },
  {
   "cell_type": "code",
   "execution_count": 90,
   "metadata": {},
   "outputs": [
    {
     "data": {
      "text/latex": [
       "$\\displaystyle \\frac{- B^{9} - 90 B^{8} - 3960 B^{7} - 110880 B^{6} - 2162160 B^{5} - 30270240 B^{4} - 302702400 B^{3} - 2075673600 B^{2} - 8821612800 B - 17643225600}{B^{9} - 90 B^{8} + 3960 B^{7} - 110880 B^{6} + 2162160 B^{5} - 30270240 B^{4} + 302702400 B^{3} - 2075673600 B^{2} + 8821612800 B - 17643225600}$"
      ],
      "text/plain": [
       "(-B**9 - 90*B**8 - 3960*B**7 - 110880*B**6 - 2162160*B**5 - 30270240*B**4 - 302702400*B**3 - 2075673600*B**2 - 8821612800*B - 17643225600)/(B**9 - 90*B**8 + 3960*B**7 - 110880*B**6 + 2162160*B**5 - 30270240*B**4 + 302702400*B**3 - 2075673600*B**2 + 8821612800*B - 17643225600)"
      ]
     },
     "metadata": {},
     "output_type": "display_data"
    }
   ],
   "source": [
    "from sympy import Rational, factorial, zeros\n",
    "from sympy.matrices import Matrix\n",
    "import sympy as sp\n",
    "\n",
    "def padee_approx(M, m):\n",
    "    \"\"\"\n",
    "    Compute the mth degree Pade approximation for e^M.\n",
    "    \n",
    "    Parameters:\n",
    "    M : matrix or scalar\n",
    "        The input matrix or scalar for which to compute the exponential.\n",
    "    m : int\n",
    "        The degree of the Pade approximation.\n",
    "        \n",
    "    Returns:\n",
    "    Matrix or scalar\n",
    "        The Pade approximation of e^M.\n",
    "    \"\"\"\n",
    "    # Numerator Coefficients\n",
    "    def B_coef(k):\n",
    "        return Rational(\n",
    "            factorial(2*m - k) * factorial(m),\n",
    "            factorial(2*m) * factorial(k) * factorial(m - k)\n",
    "        )\n",
    "    \n",
    "    # Denominator Coefficients    \n",
    "    def A_coef(k): \n",
    "        return (-1)**k * B_coef(k)  \n",
    "    \n",
    "    # Check if M is a matrix by verifying if it has the 'shape' attribute\n",
    "    if hasattr(M, 'shape'):\n",
    "        # M is assumed to be a matrix\n",
    "        rows, cols = M.shape\n",
    "        N = zeros(rows, cols)\n",
    "        D = zeros(rows, cols)\n",
    "    \n",
    "        for k in range(0, m + 1):\n",
    "            N += B_coef(k) * M**k\n",
    "            D += A_coef(k) * M**k\n",
    "        \n",
    "        # Return the matrix product of N and the inverse of D\n",
    "        return N * D.inv()\n",
    "    else:\n",
    "        # M is assumed to be a scalar\n",
    "        N = 0\n",
    "        D = 0\n",
    "        for k in range(0, m + 1):\n",
    "            N += B_coef(k) * M**k\n",
    "            D += A_coef(k) * M**k\n",
    "        \n",
    "        # Return the scalar division of N by D\n",
    "        return N / D\n",
    "display(sp.simplify((padee_approx(sp.symbols('B'),9)))) # Only do odd numbers, even numbers introduce poles or something that make them less accurate.\n",
    "#print(sp.latex(padee_approx(sp.symbols('B'),13)))"
   ]
  },
  {
   "cell_type": "code",
   "execution_count": 32,
   "metadata": {},
   "outputs": [
    {
     "data": {
      "text/latex": [
       "$\\displaystyle \\left[\\begin{matrix}\\frac{1}{256} + \\frac{i}{256} & \\frac{1}{256}\\\\\\frac{1}{256} & \\frac{1}{256} + \\frac{i}{256}\\end{matrix}\\right]$"
      ],
      "text/plain": [
       "Matrix([\n",
       "[1/256 + I/256,         1/256],\n",
       "[        1/256, 1/256 + I/256]])"
      ]
     },
     "execution_count": 32,
     "metadata": {},
     "output_type": "execute_result"
    }
   ],
   "source": [
    "B_matrix = A * sp.Pow(2,-9)\n",
    "B_matrix\n"
   ]
  },
  {
   "cell_type": "code",
   "execution_count": 61,
   "metadata": {},
   "outputs": [
    {
     "ename": "AttributeError",
     "evalue": "'MatAdd' object has no attribute 'tolist'",
     "output_type": "error",
     "traceback": [
      "\u001b[0;31m---------------------------------------------------------------------------\u001b[0m",
      "\u001b[0;31mAttributeError\u001b[0m                            Traceback (most recent call last)",
      "Cell \u001b[0;32mIn[61], line 27\u001b[0m\n\u001b[1;32m     24\u001b[0m \u001b[38;5;28;01mimport\u001b[39;00m \u001b[38;5;21;01mnumpy\u001b[39;00m \u001b[38;5;28;01mas\u001b[39;00m \u001b[38;5;21;01mnp\u001b[39;00m\n\u001b[1;32m     26\u001b[0m \u001b[38;5;66;03m# Convert SymPy matrices to NumPy arrays\u001b[39;00m\n\u001b[0;32m---> 27\u001b[0m poly1_np \u001b[38;5;241m=\u001b[39m np\u001b[38;5;241m.\u001b[39marray(\u001b[43mpoly1_substituted\u001b[49m\u001b[38;5;241;43m.\u001b[39;49m\u001b[43mtolist\u001b[49m())\u001b[38;5;241m.\u001b[39mastype(np\u001b[38;5;241m.\u001b[39mcomplex128)\n\u001b[1;32m     28\u001b[0m poly2_np \u001b[38;5;241m=\u001b[39m np\u001b[38;5;241m.\u001b[39marray(poly2_substituted\u001b[38;5;241m.\u001b[39mtolist())\u001b[38;5;241m.\u001b[39mastype(np\u001b[38;5;241m.\u001b[39mcomplex128)\n\u001b[1;32m     30\u001b[0m \u001b[38;5;66;03m# Compute the inverse and ratio\u001b[39;00m\n",
      "\u001b[0;31mAttributeError\u001b[0m: 'MatAdd' object has no attribute 'tolist'"
     ]
    }
   ],
   "source": [
    "from sympy import MatrixSymbol, Identity, symbols\n",
    "\n",
    "# Define symbolic matrix B and identity matrix I (size n x n)\n",
    "n = symbols('n')  # Size of the matrix (e.g., 3 for 3x3 matrices)\n",
    "B = MatrixSymbol('B', n, n)\n",
    "I = Identity(2)   # Identity matrix of the same size as B\n",
    "\n",
    "# First polynomial: -B^3 - 12B^2 - 60B - 120I\n",
    "poly1 = -(((B + 12*I) @ B + 60*I) @ B + 120*I)\n",
    "\n",
    "# Second polynomial: B^3 - 12B^2 + 60B - 120I\n",
    "poly2 = ((B - 12*I) @ B + 60*I) @ B - 120*I\n",
    "\n",
    "from sympy import Matrix\n",
    "\n",
    "# Define a concrete matrix (e.g., 2x2)\n",
    "B_concrete = Matrix([[2+2*sp.I, 2], [2, 2+2*sp.I]])\n",
    "n_value = 2  # Size of the matrix\n",
    "\n",
    "# Substitute into poly1 and poly2\n",
    "poly1_substituted = poly1.subs({B: B_concrete, n: n_value}).doit()\n",
    "poly2_substituted = poly2.subs({B: B_concrete, n: n_value}).doit()\n",
    "\n",
    "import numpy as np\n",
    "\n",
    "# Convert SymPy matrices to NumPy arrays\n",
    "poly1_np = np.array(poly1_substituted.tolist()).astype(np.complex128)\n",
    "poly2_np = np.array(poly2_substituted.tolist()).astype(np.complex128)\n",
    "\n",
    "# Compute the inverse and ratio\n",
    "try:\n",
    "    poly2_inv_np = np.linalg.inv(poly2_np)\n",
    "    ratio_np = poly1_np @ poly2_inv_np\n",
    "    print(\"Numerical ratio (rounded):\\n\", np.round(ratio_np, 3))\n",
    "except np.linalg.LinAlgError:\n",
    "    print(\"Matrix is singular (non-invertible).\")"
   ]
  },
  {
   "cell_type": "code",
   "execution_count": 71,
   "metadata": {},
   "outputs": [
    {
     "data": {
      "text/plain": [
       "array([[1.00391389+3.92155858e-03j, 0.00392152+1.53185103e-05j],\n",
       "       [0.00392152+1.53185103e-05j, 1.00391389+3.92155858e-03j]])"
      ]
     },
     "metadata": {},
     "output_type": "display_data"
    }
   ],
   "source": [
    "import numpy as np\n",
    "from numpy.linalg import inv, matrix_power, LinAlgError\n",
    "\n",
    "def calculate_matrix_expression(B):\n",
    "    \"\"\"\n",
    "    Calculate the expression:\n",
    "    (B^3 / 120 + B^2 / 10 + B / 2 + I) @ inv(-B^3 / 120 + B^2 / 10 - B / 2 + I)\n",
    "    \n",
    "    Parameters:\n",
    "    B (numpy.ndarray): A square NumPy array (matrix) with possible complex entries.\n",
    "    \n",
    "    Returns:\n",
    "    numpy.ndarray: The resulting matrix after evaluating the expression.\n",
    "    \n",
    "    Raises:\n",
    "    ValueError: If B is not a square matrix.\n",
    "    LinAlgError: If the denominator matrix is singular (non-invertible).\n",
    "    \"\"\"\n",
    "    # Ensure B is a NumPy array with complex data type\n",
    "    B = np.array(B, dtype=np.complex128)\n",
    "    \n",
    "    # Check if B is a square matrix\n",
    "    if B.shape[0] != B.shape[1]:\n",
    "        raise ValueError(\"Input matrix B must be square (n x n).\")\n",
    "    \n",
    "    # Define the identity matrix of the same size as B\n",
    "    I = np.eye(B.shape[0], dtype=np.complex128)\n",
    "    \n",
    "    # Compute B^3 and B^2 using matrix_power\n",
    "    B3 = matrix_power(B, 3)\n",
    "    B2 = matrix_power(B, 2)\n",
    "    \n",
    "    # Compute the numerator: (B^3 / 120) + (B^2 / 10) + (B / 2) + I\n",
    "    numerator = (B3 / 120) + (B2 / 10) + (B / 2) + I\n",
    "    \n",
    "    # Compute the denominator: (-B^3 / 120) + (B^2 / 10) - (B / 2) + I\n",
    "    denominator = (-B3 / 120) + (B2 / 10) - (B / 2) + I\n",
    "    \n",
    "    try:\n",
    "        # Compute the inverse of the denominator\n",
    "        denominator_inv = inv(denominator)\n",
    "    except LinAlgError as e:\n",
    "        raise LinAlgError(\"Denominator matrix is singular and cannot be inverted.\") from e\n",
    "    \n",
    "    # Compute the final output using matrix multiplication\n",
    "    output = numerator @ denominator_inv\n",
    "    \n",
    "    return output\n",
    "\n",
    "unscaled_matrix = calculate_matrix_expression(np.array(B_matrix.tolist(), dtype=np.complex128))\n",
    "display(unscaled_matrix)\n",
    "\n"
   ]
  },
  {
   "cell_type": "code",
   "execution_count": 72,
   "metadata": {},
   "outputs": [
    {
     "data": {
      "text/plain": [
       "array([[-3.08696723+6.74514646j, -0.        +0.j        ],\n",
       "       [-0.        +0.j        , -3.08696723+6.74514646j]])"
      ]
     },
     "execution_count": 72,
     "metadata": {},
     "output_type": "execute_result"
    }
   ],
   "source": [
    "unscaled_matrix ** (2 ** 9)"
   ]
  },
  {
   "cell_type": "code",
   "execution_count": null,
   "metadata": {},
   "outputs": [],
   "source": []
  },
  {
   "cell_type": "code",
   "execution_count": null,
   "metadata": {},
   "outputs": [
    {
     "name": "stdout",
     "output_type": "stream",
     "text": [
      "sfixed(50 downto -64) representation of 3.14159:\n",
      "0000000000000000000000000000000000000000000000000110010010000111111001111100000001101110000110011011100000000000000\n",
      "Length = 115\n"
     ]
    }
   ],
   "source": [
    "def to_sfixed(value, left, right):\n",
    "    \"\"\"\n",
    "    Converts a number into its VHDL sfixed two's-complement binary representation.\n",
    "    \n",
    "    Parameters:\n",
    "      value : float or int\n",
    "          The number to convert.\n",
    "      left : int\n",
    "          The left (most significant) index of the sfixed type.\n",
    "      right : int\n",
    "          The right (least significant) index of the sfixed type.\n",
    "    \n",
    "    Returns:\n",
    "      A string of bits (with leading zeros if necessary) representing the fixed‐point number.\n",
    "      \n",
    "    For a type declared as sfixed(left downto right) the total number of bits is:\n",
    "          width = left - right + 1\n",
    "    For example, to_sfixed(3.14159, 50, -64) returns a binary string 115 bits long.\n",
    "    \n",
    "    (If you really need a 116‐bit result for 50, -64, then change the width calculation to:\n",
    "          width = left - right + 2\n",
    "    )\n",
    "    \"\"\"\n",
    "    # Compute the width of the sfixed representation.\n",
    "    width = left - right + 1\n",
    "    \n",
    "    # The fixed-point resolution is 2^(right). (Since right is usually negative, 2^(-right) is the scaling factor.)\n",
    "    scale = 2 ** (-right)\n",
    "    \n",
    "    # Multiply by the scaling factor and round to get the fixed‐point integer.\n",
    "    fixed_val = int(round(value * scale))\n",
    "    \n",
    "    # For negative numbers, convert to two's complement.\n",
    "    if fixed_val < 0:\n",
    "        fixed_val = (1 << width) + fixed_val\n",
    "\n",
    "    # Mask the result so that it fits in 'width' bits and then format as a zero-padded binary string.\n",
    "    fixed_val &= (1 << width) - 1\n",
    "    return format(fixed_val, '0{}b'.format(width))\n",
    "\n",
    "\n",
    "# Example usage:\n",
    "if __name__ == '__main__':\n",
    "    # For example, convert 3.14159 to sfixed with range (50 downto -64)\n",
    "    rep = to_sfixed(3.14159, 50, -64)\n",
    "    print(\"sfixed(50 downto -64) representation of 3.14159:\")\n",
    "    print(rep)\n",
    "    print(\"Length =\", len(rep))\n"
   ]
  },
  {
   "cell_type": "code",
   "execution_count": 2,
   "metadata": {},
   "outputs": [
    {
     "data": {
      "image/png": "[encoded data removed]",
      "text/plain": [
       "<Figure size 640x480 with 1 Axes>"
      ]
     },
     "metadata": {},
     "output_type": "display_data"
    }
   ],
   "source": [
    "import numpy as np\n",
    "import matplotlib.pyplot as plt\n",
    "\n",
    "# Parameters\n",
    "N = 16         # total \"DFT size\"\n",
    "k = 1          # Goertzel bin index\n",
    "\n",
    "# Create input: delta at n=0 and n=N/2\n",
    "L = 2*N        # we will look at 2*N samples just to be safe\n",
    "x = np.zeros(L)\n",
    "x[0] = 1\n",
    "x[N//2] = 1    # second impulse at n = N/2\n",
    "\n",
    "# Prepare output array\n",
    "y = np.zeros(L)\n",
    "\n",
    "# Goertzel filter coefficient for bin k=1\n",
    "#  y[n] = x[n] + 2*cos(2*pi*k/N) * y[n-1] - y[n-2].\n",
    "c = 2.0 * np.cos(2.0 * np.pi * k / N)\n",
    "\n",
    "# Apply filter difference equation\n",
    "for n in range(L):\n",
    "    if n == 0:\n",
    "        # y[-1] and y[-2] are 0\n",
    "        y[n] = x[n]\n",
    "    elif n == 1:\n",
    "        # y[-2] is 0\n",
    "        y[n] = x[n] + c*y[n-1]\n",
    "    else:\n",
    "        y[n] = x[n] + c*y[n-1] - y[n-2]\n",
    "\n",
    "# Plot the result\n",
    "plt.stem(range(L), y)\n",
    "plt.xlabel('n')\n",
    "plt.ylabel('y[n]')\n",
    "plt.title('Goertzel Filter Output for k=1')\n",
    "plt.grid(True)\n",
    "plt.show()\n"
   ]
  },
  {
   "cell_type": "code",
   "execution_count": 6,
   "metadata": {},
   "outputs": [
    {
     "data": {
      "text/plain": [
       "matrix([[0.015625, 0.015625, 0.015625, 0.015625],\n",
       "        [0.015625, 0.015625, 0.015625, 0.015625],\n",
       "        [0.015625, 0.015625, 0.015625, 0.015625],\n",
       "        [0.015625, 0.015625, 0.015625, 0.015625]])"
      ]
     },
     "execution_count": 6,
     "metadata": {},
     "output_type": "execute_result"
    }
   ],
   "source": [
    "import numpy as np\n",
    "\n",
    "A = np.matrix(\n",
    "[[4,4,4,4],\n",
    " [4,4,4,4],\n",
    " [4,4,4,4],\n",
    " [4,4,4,4]]    \n",
    ")\n",
    "A_guess = A.T/(np.linalg.norm(A,1) * np.linalg.norm(A,np.inf))\n",
    "A_guess"
   ]
  }
 ],
 "metadata": {
  "kernelspec": {
   "display_name": "env",
   "language": "python",
   "name": "python3"
  },
  "language_info": {
   "codemirror_mode": {
    "name": "ipython",
    "version": 3
   },
   "file_extension": ".py",
   "mimetype": "text/x-python",
   "name": "python",
   "nbconvert_exporter": "python",
   "pygments_lexer": "ipython3",
   "version": "3.11.11"
  }
 },
 "nbformat": 4,
 "nbformat_minor": 2
}
