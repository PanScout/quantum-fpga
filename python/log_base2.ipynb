{
 "cells": [
  {
   "cell_type": "code",
   "execution_count": 2,
   "metadata": {},
   "outputs": [
    {
     "name": "stdout",
     "output_type": "stream",
     "text": [
      "[{'x_max': 1, 'x_min': 1, 'y': 0},\n",
      " {'x_max': 2, 'x_min': 2, 'y': 1},\n",
      " {'x_max': 4, 'x_min': 3, 'y': 2},\n",
      " {'x_max': 8, 'x_min': 5, 'y': 3},\n",
      " {'x_max': 16, 'x_min': 9, 'y': 4},\n",
      " {'x_max': 32, 'x_min': 17, 'y': 5},\n",
      " {'x_max': 64, 'x_min': 33, 'y': 6},\n",
      " {'x_max': 128, 'x_min': 65, 'y': 7},\n",
      " {'x_max': 256, 'x_min': 129, 'y': 8},\n",
      " {'x_max': 512, 'x_min': 257, 'y': 9},\n",
      " {'x_max': 1024, 'x_min': 513, 'y': 10},\n",
      " {'x_max': 2048, 'x_min': 1025, 'y': 11},\n",
      " {'x_max': 4096, 'x_min': 2049, 'y': 12},\n",
      " {'x_max': 8192, 'x_min': 4097, 'y': 13},\n",
      " {'x_max': 16384, 'x_min': 8193, 'y': 14},\n",
      " {'x_max': 32768, 'x_min': 16385, 'y': 15},\n",
      " {'x_max': 65536, 'x_min': 32769, 'y': 16},\n",
      " {'x_max': 131072, 'x_min': 65537, 'y': 17},\n",
      " {'x_max': 262144, 'x_min': 131073, 'y': 18},\n",
      " {'x_max': 524288, 'x_min': 262145, 'y': 19},\n",
      " {'x_max': 1048576, 'x_min': 524289, 'y': 20},\n",
      " {'x_max': 2097152, 'x_min': 1048577, 'y': 21},\n",
      " {'x_max': 4194304, 'x_min': 2097153, 'y': 22},\n",
      " {'x_max': 8388608, 'x_min': 4194305, 'y': 23},\n",
      " {'x_max': 16777216, 'x_min': 8388609, 'y': 24}]\n"
     ]
    }
   ],
   "source": [
    "import math\n",
    "from pprint import pprint\n",
    "\n",
    "def generate_ceil_log2_lookup_table(x_min, x_max):\n",
    "    if x_min <= 0 or x_max <= 0:\n",
    "        raise ValueError(\"x_min and x_max must be positive integers.\")\n",
    "    if x_min > x_max:\n",
    "        raise ValueError(\"x_min should be less than or equal to x_max.\")\n",
    "    \n",
    "    table = []\n",
    "    \n",
    "    # Calculate the minimum and maximum y values\n",
    "    y_min = math.ceil(math.log2(x_min)) if x_min > 0 else 0\n",
    "    y_max = math.ceil(math.log2(x_max))\n",
    "    \n",
    "    for y in range(y_min, y_max + 1):\n",
    "        lower_bound = 2**(y-1) + 1 if y > 0 else 1\n",
    "        upper_bound = 2**y\n",
    "        # Adjust the lower_bound if it's below x_min\n",
    "        actual_lower = max(lower_bound, x_min)\n",
    "        # Adjust the upper_bound if it's above x_max\n",
    "        actual_upper = min(upper_bound, x_max)\n",
    "        if actual_lower <= actual_upper:\n",
    "            table.append({\n",
    "                'y': y,\n",
    "                'x_max': actual_upper,\n",
    "                'x_min': actual_lower\n",
    "            })\n",
    "    \n",
    "    return table\n",
    "\n",
    "# Example usage:\n",
    "if __name__ == \"__main__\":\n",
    "    x_min = 0.1\n",
    "    x_max = 2**24\n",
    "    lookup_table = generate_ceil_log2_lookup_table(x_min, x_max)\n",
    "    pprint(lookup_table)\n"
   ]
  }
 ],
 "metadata": {
  "kernelspec": {
   "display_name": "env",
   "language": "python",
   "name": "python3"
  },
  "language_info": {
   "codemirror_mode": {
    "name": "ipython",
    "version": 3
   },
   "file_extension": ".py",
   "mimetype": "text/x-python",
   "name": "python",
   "nbconvert_exporter": "python",
   "pygments_lexer": "ipython3",
   "version": "3.11.11"
  }
 },
 "nbformat": 4,
 "nbformat_minor": 2
}
