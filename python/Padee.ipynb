{
 "cells": [
  {
   "cell_type": "code",
   "execution_count": 6,
   "metadata": {},
   "outputs": [],
   "source": [
    "from sympy import Rational, factorial, zeros\n",
    "from sympy.matrices import Matrix\n",
    "import sympy as sp\n",
    "\n",
    "def padee_approx(M, m):\n",
    "    \"\"\"\n",
    "    Compute the mth degree Pade approximation for e^M.\n",
    "    \n",
    "    Parameters:\n",
    "    M : matrix or scalar\n",
    "        The input matrix or scalar for which to compute the exponential.\n",
    "    m : int\n",
    "        The degree of the Pade approximation.\n",
    "        \n",
    "    Returns:\n",
    "    Matrix or scalar\n",
    "        The Pade approximation of e^M.\n",
    "    \"\"\"\n",
    "    # Numerator Coefficients\n",
    "    def B_coef(k):\n",
    "        return Rational(\n",
    "            factorial(2*m - k) * factorial(m),\n",
    "            factorial(2*m) * factorial(k) * factorial(m - k)\n",
    "        )\n",
    "    \n",
    "    # Denominator Coefficients    \n",
    "    def A_coef(k): \n",
    "        return (-1)**k * B_coef(k)  \n",
    "    \n",
    "    # Check if M is a matrix by verifying if it has the 'shape' attribute\n",
    "    if hasattr(M, 'shape'):\n",
    "        # M is assumed to be a matrix\n",
    "        rows, cols = M.shape\n",
    "        N = zeros(rows, cols)\n",
    "        D = zeros(rows, cols)\n",
    "    \n",
    "        for k in range(0, m + 1):\n",
    "            N += B_coef(k) * M**k\n",
    "            D += A_coef(k) * M**k\n",
    "        \n",
    "        # Return the matrix product of N and the inverse of D\n",
    "        return N * D.inv()\n",
    "    else:\n",
    "        # M is assumed to be a scalar\n",
    "        N = 0\n",
    "        D = 0\n",
    "        for k in range(0, m + 1):\n",
    "            N += B_coef(k) * M**k\n",
    "            D += A_coef(k) * M**k\n",
    "        \n",
    "        # Return the scalar division of N by D\n",
    "        return N / D\n"
   ]
  },
  {
   "cell_type": "code",
   "execution_count": 8,
   "metadata": {},
   "outputs": [
    {
     "data": {
      "text/latex": [
       "$\\displaystyle \\frac{- B^{3} - 12 B^{2} - 60 B - 120}{B^{3} - 12 B^{2} + 60 B - 120}$"
      ],
      "text/plain": [
       "(-B**3 - 12*B**2 - 60*B - 120)/(B**3 - 12*B**2 + 60*B - 120)"
      ]
     },
     "metadata": {},
     "output_type": "display_data"
    }
   ],
   "source": [
    "display( sp.simplify(padee_approx(sp.symbols('B'),3))) # Only do odd numbers, even numbers introduce poles or something that make them less accurate."
   ]
  },
  {
   "cell_type": "code",
   "execution_count": 4,
   "metadata": {},
   "outputs": [],
   "source": [
    "theta_for_m_3 = 1.495585217958292 * 10**-2 \n",
    "theta_for_m_5 = 2.539398330063230 * 10**-1"
   ]
  },
  {
   "cell_type": "code",
   "execution_count": 5,
   "metadata": {},
   "outputs": [],
   "source": [
    "import sympy as sp\n",
    "\n",
    "def compute_s(M, theta):\n",
    "    \"\"\"\n",
    "    Compute the scaling factor 's' based on the infinity norm of matrix M and threshold theta.\n",
    "\n",
    "    Parameters:\n",
    "        M (sp.Matrix): The input matrix.\n",
    "        theta (float): The threshold value.\n",
    "\n",
    "    Returns:\n",
    "        int: The scaling factor 's'.\n",
    "    \"\"\"\n",
    "    norm = M.norm(ord=sp.oo)\n",
    "    s = sp.ceiling(sp.log(norm / theta, 2))\n",
    "    s = max(s, 0)  # Ensure s is not negative. YOU may be able to get rid of this by ensuring the norm is never less than the theta. \n",
    "    return s\n",
    "\n",
    "def scale_matrix(M, theta):\n",
    "    \"\"\"\n",
    "    Scale the matrix M by 2^s, where s is determined based on theta.\n",
    "\n",
    "    Parameters:\n",
    "        M (sp.Matrix): The input matrix.\n",
    "        theta (float): The threshold value.\n",
    "\n",
    "    Returns:\n",
    "        tuple: A tuple containing the scaled matrix B and the scaling factor s.\n",
    "    \"\"\"\n",
    "    s = compute_s(M, theta)\n",
    "    B = M / (2 ** s)\n",
    "    return B, s\n",
    "\n",
    "def padee_and_scale(M, theta_for_m_3):\n",
    "    \"\"\"\n",
    "    Apply Pade approximation to matrix M, scaling it if necessary based on theta_for_m_3.\n",
    "\n",
    "    Parameters:\n",
    "        M (array-like): The input matrix.\n",
    "        theta_for_m_3 (float): The threshold value for deciding scaling.\n",
    "\n",
    "    Returns:\n",
    "        sp.Matrix: The resulting matrix after Pade approximation and scaling.\n",
    "    \"\"\"\n",
    "    # Ensure M is a SymPy Matrix with complex entries\n",
    "    M = sp.Matrix(M).applyfunc(lambda x: sp.nsimplify(x, rational=True))  # Convert to SymPy types\n",
    "\n",
    "    # Compute the infinity norm of M\n",
    "    norm_inf = M.norm(ord=sp.oo)\n",
    "\n",
    "    if norm_inf < theta_for_m_3:\n",
    "        return padee_approx(M, 3)\n",
    "\n",
    "    # Scale the matrix if norm_inf >= theta_for_m_3\n",
    "    B, s = scale_matrix(M, theta_for_m_3)\n",
    "\n",
    "    # Apply Pade approximation to the scaled matrix\n",
    "    B = padee_approx(B, 3)\n",
    "\n",
    "    # Rescale the result\n",
    "    B = B ** (2 ** s)\n",
    "\n",
    "    return B\n"
   ]
  },
  {
   "cell_type": "code",
   "execution_count": 6,
   "metadata": {},
   "outputs": [
    {
     "data": {
      "text/plain": [
       "'The inputted matrix:'"
      ]
     },
     "metadata": {},
     "output_type": "display_data"
    },
    {
     "data": {
      "text/latex": [
       "$\\displaystyle \\left[\\begin{matrix}1 + 3 i & 0.2 + 0.4 i\\\\-4 - 4 i & - 0.8 i\\end{matrix}\\right]$"
      ],
      "text/plain": [
       "Matrix([\n",
       "[ 1 + 3*I, 0.2 + 0.4*I],\n",
       "[-4 - 4*I,      -0.8*I]])"
      ]
     },
     "metadata": {},
     "output_type": "display_data"
    },
    {
     "name": "stdout",
     "output_type": "stream",
     "text": [
      "The matrices norm is 6.46\n"
     ]
    },
    {
     "data": {
      "text/plain": [
       "'In-built function exp():'"
      ]
     },
     "metadata": {},
     "output_type": "display_data"
    },
    {
     "data": {
      "text/latex": [
       "$\\displaystyle \\left[\\begin{matrix}-1.17 + 1.33 i & -0.235 + 0.397 i\\\\1.23 - 5.71 i & 1.57 - 1.67 i\\end{matrix}\\right]$"
      ],
      "text/plain": [
       "Matrix([\n",
       "[-1.17 + 1.33*I, -0.235 + 0.397*I],\n",
       "[ 1.23 - 5.71*I,    1.57 - 1.67*I]])"
      ]
     },
     "metadata": {},
     "output_type": "display_data"
    },
    {
     "data": {
      "text/plain": [
       "'My function:'"
      ]
     },
     "metadata": {},
     "output_type": "display_data"
    },
    {
     "data": {
      "text/latex": [
       "$\\displaystyle \\left[\\begin{matrix}-1.17 + 1.33 i & -0.235 + 0.397 i\\\\1.23 - 5.71 i & 1.57 - 1.67 i\\end{matrix}\\right]$"
      ],
      "text/plain": [
       "Matrix([\n",
       "[-1.17 + 1.33*I, -0.235 + 0.397*I],\n",
       "[ 1.23 - 5.71*I,    1.57 - 1.67*I]])"
      ]
     },
     "metadata": {},
     "output_type": "display_data"
    }
   ],
   "source": [
    "from numba import jit\n",
    "import numpy as np\n",
    "\n",
    "\n",
    "testMatrix = Matrix([[1+3*sp.I,0.2+0.4*sp.I],[-4-4*sp.I,-0.8*sp.I]])\n",
    "\n",
    "display(\"The inputted matrix:\", testMatrix)\n",
    "\n",
    "print(\"The matrices norm is\", testMatrix.norm(sp.oo).evalf(3))\n",
    "\n",
    "display(\"In-built function exp():\", testMatrix.exp().evalf(3))\n",
    "\n",
    "display(\"My function:\", padee_and_scale(testMatrix, theta_for_m_3).evalf(3))\n",
    "\n",
    "\n",
    "\n",
    "\n",
    "\n",
    "\n"
   ]
  },
  {
   "cell_type": "code",
   "execution_count": null,
   "metadata": {},
   "outputs": [],
   "source": []
  },
  {
   "cell_type": "markdown",
   "metadata": {},
   "source": [
    "# So the pipeline for this is gonna look like this:\n",
    "\n",
    "1. We spilt the Hamilation Matrix into 6 matrices, one associasted with each cell so we have empty matrices except for one cell. This minimizes their norm  and allows for much easier matrix multiplication and squaring so computation is easier. (Here H1 H2 etc mean the six matrices that add up to H)\n",
    "    $$e^H = e^{H_1}e^{H_2}e^{H_3}e^{H_4}e^{H_5}e^{H_6}$$\n",
    "2. In VHDL we take the symbolic equations for each Matrices cell and use them to calculate a concrete value (example from one of the matrices):\n",
    "    $$-it(-H1+H2-J) = C$$\n",
    "3. We take this matrix with one cell that is the value C and if the matrices norm exceeds $1.496* 10^{-2}$ we calculate our scaling factor s, if not we simply use it directly with Padee approximation. \n",
    "    $$\n",
    "    s = \\left\\lceil \\log_2\\left(\\frac{\\|A\\|}{\\theta}\\right) \\right\\rceil , \\theta=1.496* 10^{-2}\n",
    "    $$\n",
    "4. If we have a scaling factor $s$ we divide the matrix with value $C$ by the value $2^s$ to get a new scaled down matrix.\n",
    "$$B = \\frac{H_n}{2^{s}} = \\frac{C}{2^{s}} $$\n",
    "5. We use this scaled down matrix B in our third degree Pradee approximattion. \n",
    "$$\\frac{- B^{3} - 12 B^{2} - 60 B - 120}{B^{3} - 12 B^{2} + 60 C - 120} = B_n$$\n",
    "6. We take this matrix $B_n$ and scale it back up through the following formula:\n",
    "$$B_f = B_n^{2^{s}}$$\n",
    "7. $Bf$ is our final result. We do this $H_1$ through $H_6$ and then multiply all six together to get our final result $e^H$\n",
    "\n"
   ]
  },
  {
   "cell_type": "markdown",
   "metadata": {},
   "source": []
  }
 ],
 "metadata": {
  "kernelspec": {
   "display_name": ".venv",
   "language": "python",
   "name": "python3"
  },
  "language_info": {
   "codemirror_mode": {
    "name": "ipython",
    "version": 3
   },
   "file_extension": ".py",
   "mimetype": "text/x-python",
   "name": "python",
   "nbconvert_exporter": "python",
   "pygments_lexer": "ipython3",
   "version": "3.13.2"
  }
 },
 "nbformat": 4,
 "nbformat_minor": 2
}
